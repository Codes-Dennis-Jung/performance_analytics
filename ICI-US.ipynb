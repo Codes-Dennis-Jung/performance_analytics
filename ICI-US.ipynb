{
 "cells": [
  {
   "cell_type": "code",
   "execution_count": 1,
   "metadata": {},
   "outputs": [
    {
     "data": {
      "text/html": [
       "<div>\n",
       "<style scoped>\n",
       "    .dataframe tbody tr th:only-of-type {\n",
       "        vertical-align: middle;\n",
       "    }\n",
       "\n",
       "    .dataframe tbody tr th {\n",
       "        vertical-align: top;\n",
       "    }\n",
       "\n",
       "    .dataframe thead th {\n",
       "        text-align: right;\n",
       "    }\n",
       "</style>\n",
       "<table border=\"1\" class=\"dataframe\">\n",
       "  <thead>\n",
       "    <tr style=\"text-align: right;\">\n",
       "      <th></th>\n",
       "      <th>USREC</th>\n",
       "      <th>TB3MS</th>\n",
       "      <th>GS10</th>\n",
       "      <th>IC4WSA</th>\n",
       "      <th>UNRATE</th>\n",
       "      <th>UMCSENT</th>\n",
       "      <th>CONSUMER</th>\n",
       "      <th>PI</th>\n",
       "      <th>REALLN</th>\n",
       "      <th>AWHNONAG</th>\n",
       "      <th>AWHI</th>\n",
       "      <th>HTRUCKSSAAR</th>\n",
       "      <th>PERMIT1</th>\n",
       "      <th>HSN1F</th>\n",
       "    </tr>\n",
       "    <tr>\n",
       "      <th>DATE</th>\n",
       "      <th></th>\n",
       "      <th></th>\n",
       "      <th></th>\n",
       "      <th></th>\n",
       "      <th></th>\n",
       "      <th></th>\n",
       "      <th></th>\n",
       "      <th></th>\n",
       "      <th></th>\n",
       "      <th></th>\n",
       "      <th></th>\n",
       "      <th></th>\n",
       "      <th></th>\n",
       "      <th></th>\n",
       "    </tr>\n",
       "  </thead>\n",
       "  <tbody>\n",
       "    <tr>\n",
       "      <th>2023-08-01</th>\n",
       "      <td>0.0</td>\n",
       "      <td>5.30</td>\n",
       "      <td>4.17</td>\n",
       "      <td>231500.0</td>\n",
       "      <td>3.8</td>\n",
       "      <td>69.4</td>\n",
       "      <td>1895.1171</td>\n",
       "      <td>23089.1</td>\n",
       "      <td>5482.4762</td>\n",
       "      <td>33.8</td>\n",
       "      <td>122.5</td>\n",
       "      <td>0.544</td>\n",
       "      <td>948.0</td>\n",
       "      <td>662.0</td>\n",
       "    </tr>\n",
       "    <tr>\n",
       "      <th>2023-09-01</th>\n",
       "      <td>0.0</td>\n",
       "      <td>5.32</td>\n",
       "      <td>4.38</td>\n",
       "      <td>229500.0</td>\n",
       "      <td>3.8</td>\n",
       "      <td>67.9</td>\n",
       "      <td>1902.0658</td>\n",
       "      <td>23185.9</td>\n",
       "      <td>5495.7024</td>\n",
       "      <td>33.8</td>\n",
       "      <td>122.7</td>\n",
       "      <td>0.501</td>\n",
       "      <td>963.0</td>\n",
       "      <td>719.0</td>\n",
       "    </tr>\n",
       "    <tr>\n",
       "      <th>2023-10-01</th>\n",
       "      <td>0.0</td>\n",
       "      <td>5.34</td>\n",
       "      <td>4.80</td>\n",
       "      <td>206750.0</td>\n",
       "      <td>3.9</td>\n",
       "      <td>63.8</td>\n",
       "      <td>1902.4276</td>\n",
       "      <td>23242.9</td>\n",
       "      <td>5497.9925</td>\n",
       "      <td>33.7</td>\n",
       "      <td>122.4</td>\n",
       "      <td>0.475</td>\n",
       "      <td>969.0</td>\n",
       "      <td>679.0</td>\n",
       "    </tr>\n",
       "    <tr>\n",
       "      <th>2023-11-01</th>\n",
       "      <td>0.0</td>\n",
       "      <td>5.27</td>\n",
       "      <td>4.50</td>\n",
       "      <td>212500.0</td>\n",
       "      <td>3.7</td>\n",
       "      <td>NaN</td>\n",
       "      <td>NaN</td>\n",
       "      <td>NaN</td>\n",
       "      <td>NaN</td>\n",
       "      <td>33.8</td>\n",
       "      <td>122.9</td>\n",
       "      <td>0.540</td>\n",
       "      <td>NaN</td>\n",
       "      <td>NaN</td>\n",
       "    </tr>\n",
       "    <tr>\n",
       "      <th>2023-12-01</th>\n",
       "      <td>NaN</td>\n",
       "      <td>NaN</td>\n",
       "      <td>NaN</td>\n",
       "      <td>220750.0</td>\n",
       "      <td>NaN</td>\n",
       "      <td>NaN</td>\n",
       "      <td>NaN</td>\n",
       "      <td>NaN</td>\n",
       "      <td>NaN</td>\n",
       "      <td>NaN</td>\n",
       "      <td>NaN</td>\n",
       "      <td>NaN</td>\n",
       "      <td>NaN</td>\n",
       "      <td>NaN</td>\n",
       "    </tr>\n",
       "  </tbody>\n",
       "</table>\n",
       "</div>"
      ],
      "text/plain": [
       "            USREC  TB3MS  GS10    IC4WSA  UNRATE  UMCSENT   CONSUMER       PI  \\\n",
       "DATE                                                                            \n",
       "2023-08-01    0.0   5.30  4.17  231500.0     3.8     69.4  1895.1171  23089.1   \n",
       "2023-09-01    0.0   5.32  4.38  229500.0     3.8     67.9  1902.0658  23185.9   \n",
       "2023-10-01    0.0   5.34  4.80  206750.0     3.9     63.8  1902.4276  23242.9   \n",
       "2023-11-01    0.0   5.27  4.50  212500.0     3.7      NaN        NaN      NaN   \n",
       "2023-12-01    NaN    NaN   NaN  220750.0     NaN      NaN        NaN      NaN   \n",
       "\n",
       "               REALLN  AWHNONAG   AWHI  HTRUCKSSAAR  PERMIT1  HSN1F  \n",
       "DATE                                                                 \n",
       "2023-08-01  5482.4762      33.8  122.5        0.544    948.0  662.0  \n",
       "2023-09-01  5495.7024      33.8  122.7        0.501    963.0  719.0  \n",
       "2023-10-01  5497.9925      33.7  122.4        0.475    969.0  679.0  \n",
       "2023-11-01        NaN      33.8  122.9        0.540      NaN    NaN  \n",
       "2023-12-01        NaN       NaN    NaN          NaN      NaN    NaN  "
      ]
     },
     "execution_count": 1,
     "metadata": {},
     "output_type": "execute_result"
    }
   ],
   "source": [
    "import pandas_datareader as pdr\n",
    "import pandas as pd\n",
    "import numpy as np\n",
    "import datetime\n",
    "import time\n",
    "from datetime import date\n",
    "import statsmodels.api as sm\n",
    "\n",
    "import openpyxl\n",
    "from openpyxl import load_workbook\n",
    "\n",
    "start = datetime.datetime (1950, 1, 1)\n",
    "\n",
    "df = pdr.DataReader(['USREC','TB3MS','GS10','IC4WSA','UNRATE','UMCSENT','CONSUMER','PI','REALLN','AWHNONAG','AWHI','HTRUCKSSAAR','PERMIT1','HSN1F'], 'fred', start).resample(\"MS\").first()\n",
    "df.tail()"
   ]
  },
  {
   "cell_type": "markdown",
   "metadata": {},
   "source": [
    "### Note; whenever you see a directory to Philip's file, you will need to change it to yours"
   ]
  },
  {
   "cell_type": "markdown",
   "metadata": {},
   "source": [
    "### Data Management"
   ]
  },
  {
   "cell_type": "markdown",
   "metadata": {},
   "source": [
    "##### Note; remember to manually add last value for following series, since the FRED API only releases the series up to t-1! \n",
    "- \"Index of Consumer Sentiment\" (umcsent_last); http://www.sca.isr.umich.edu/\n",
    "- \"Consumer Loans\" - Table 3 - Week ending (consumer_last); https://www.federalreserve.gov/releases/h8/current/\n",
    "- \"Real Estate Loans\" - Table 2 - Week ending (restate_last); https://www.federalreserve.gov/releases/h8/current/"
   ]
  },
  {
   "cell_type": "code",
   "execution_count": 2,
   "metadata": {},
   "outputs": [
    {
     "data": {
      "text/html": [
       "<div>\n",
       "<style scoped>\n",
       "    .dataframe tbody tr th:only-of-type {\n",
       "        vertical-align: middle;\n",
       "    }\n",
       "\n",
       "    .dataframe tbody tr th {\n",
       "        vertical-align: top;\n",
       "    }\n",
       "\n",
       "    .dataframe thead th {\n",
       "        text-align: right;\n",
       "    }\n",
       "</style>\n",
       "<table border=\"1\" class=\"dataframe\">\n",
       "  <thead>\n",
       "    <tr style=\"text-align: right;\">\n",
       "      <th></th>\n",
       "      <th>USREC</th>\n",
       "      <th>TB3MS</th>\n",
       "      <th>GS10</th>\n",
       "      <th>IC4WSA</th>\n",
       "      <th>UNRATE</th>\n",
       "      <th>UMCSENT</th>\n",
       "      <th>CONSUMER</th>\n",
       "      <th>PI</th>\n",
       "      <th>REALLN</th>\n",
       "      <th>AWHNONAG</th>\n",
       "      <th>AWHI</th>\n",
       "      <th>HTRUCKSSAAR</th>\n",
       "      <th>PERMIT1</th>\n",
       "      <th>HSN1F</th>\n",
       "    </tr>\n",
       "    <tr>\n",
       "      <th>DATE</th>\n",
       "      <th></th>\n",
       "      <th></th>\n",
       "      <th></th>\n",
       "      <th></th>\n",
       "      <th></th>\n",
       "      <th></th>\n",
       "      <th></th>\n",
       "      <th></th>\n",
       "      <th></th>\n",
       "      <th></th>\n",
       "      <th></th>\n",
       "      <th></th>\n",
       "      <th></th>\n",
       "      <th></th>\n",
       "    </tr>\n",
       "  </thead>\n",
       "  <tbody>\n",
       "    <tr>\n",
       "      <th>1950-01-01</th>\n",
       "      <td>0.0</td>\n",
       "      <td>1.07</td>\n",
       "      <td>NaN</td>\n",
       "      <td>NaN</td>\n",
       "      <td>6.5</td>\n",
       "      <td>NaN</td>\n",
       "      <td>8.1905</td>\n",
       "      <td>NaN</td>\n",
       "      <td>10.8820</td>\n",
       "      <td>NaN</td>\n",
       "      <td>NaN</td>\n",
       "      <td>NaN</td>\n",
       "      <td>NaN</td>\n",
       "      <td>NaN</td>\n",
       "    </tr>\n",
       "    <tr>\n",
       "      <th>1950-02-01</th>\n",
       "      <td>0.0</td>\n",
       "      <td>1.12</td>\n",
       "      <td>NaN</td>\n",
       "      <td>NaN</td>\n",
       "      <td>6.4</td>\n",
       "      <td>NaN</td>\n",
       "      <td>8.3569</td>\n",
       "      <td>NaN</td>\n",
       "      <td>11.0301</td>\n",
       "      <td>NaN</td>\n",
       "      <td>NaN</td>\n",
       "      <td>NaN</td>\n",
       "      <td>NaN</td>\n",
       "      <td>NaN</td>\n",
       "    </tr>\n",
       "    <tr>\n",
       "      <th>1950-03-01</th>\n",
       "      <td>0.0</td>\n",
       "      <td>1.12</td>\n",
       "      <td>NaN</td>\n",
       "      <td>NaN</td>\n",
       "      <td>6.3</td>\n",
       "      <td>NaN</td>\n",
       "      <td>8.5232</td>\n",
       "      <td>NaN</td>\n",
       "      <td>11.1819</td>\n",
       "      <td>NaN</td>\n",
       "      <td>NaN</td>\n",
       "      <td>NaN</td>\n",
       "      <td>NaN</td>\n",
       "      <td>NaN</td>\n",
       "    </tr>\n",
       "    <tr>\n",
       "      <th>1950-04-01</th>\n",
       "      <td>0.0</td>\n",
       "      <td>1.15</td>\n",
       "      <td>NaN</td>\n",
       "      <td>NaN</td>\n",
       "      <td>5.8</td>\n",
       "      <td>NaN</td>\n",
       "      <td>8.6946</td>\n",
       "      <td>NaN</td>\n",
       "      <td>11.3294</td>\n",
       "      <td>NaN</td>\n",
       "      <td>NaN</td>\n",
       "      <td>NaN</td>\n",
       "      <td>NaN</td>\n",
       "      <td>NaN</td>\n",
       "    </tr>\n",
       "    <tr>\n",
       "      <th>1950-05-01</th>\n",
       "      <td>0.0</td>\n",
       "      <td>1.16</td>\n",
       "      <td>NaN</td>\n",
       "      <td>NaN</td>\n",
       "      <td>5.5</td>\n",
       "      <td>NaN</td>\n",
       "      <td>8.8647</td>\n",
       "      <td>NaN</td>\n",
       "      <td>11.4721</td>\n",
       "      <td>NaN</td>\n",
       "      <td>NaN</td>\n",
       "      <td>NaN</td>\n",
       "      <td>NaN</td>\n",
       "      <td>NaN</td>\n",
       "    </tr>\n",
       "    <tr>\n",
       "      <th>...</th>\n",
       "      <td>...</td>\n",
       "      <td>...</td>\n",
       "      <td>...</td>\n",
       "      <td>...</td>\n",
       "      <td>...</td>\n",
       "      <td>...</td>\n",
       "      <td>...</td>\n",
       "      <td>...</td>\n",
       "      <td>...</td>\n",
       "      <td>...</td>\n",
       "      <td>...</td>\n",
       "      <td>...</td>\n",
       "      <td>...</td>\n",
       "      <td>...</td>\n",
       "    </tr>\n",
       "    <tr>\n",
       "      <th>2023-07-01</th>\n",
       "      <td>0.0</td>\n",
       "      <td>5.25</td>\n",
       "      <td>3.90</td>\n",
       "      <td>253500.0</td>\n",
       "      <td>3.5</td>\n",
       "      <td>71.5</td>\n",
       "      <td>1885.3108</td>\n",
       "      <td>22984.0</td>\n",
       "      <td>5455.8678</td>\n",
       "      <td>33.8</td>\n",
       "      <td>122.5</td>\n",
       "      <td>0.504</td>\n",
       "      <td>930.0</td>\n",
       "      <td>728.0</td>\n",
       "    </tr>\n",
       "    <tr>\n",
       "      <th>2023-08-01</th>\n",
       "      <td>0.0</td>\n",
       "      <td>5.30</td>\n",
       "      <td>4.17</td>\n",
       "      <td>231500.0</td>\n",
       "      <td>3.8</td>\n",
       "      <td>69.4</td>\n",
       "      <td>1895.1171</td>\n",
       "      <td>23089.1</td>\n",
       "      <td>5482.4762</td>\n",
       "      <td>33.8</td>\n",
       "      <td>122.5</td>\n",
       "      <td>0.544</td>\n",
       "      <td>948.0</td>\n",
       "      <td>662.0</td>\n",
       "    </tr>\n",
       "    <tr>\n",
       "      <th>2023-09-01</th>\n",
       "      <td>0.0</td>\n",
       "      <td>5.32</td>\n",
       "      <td>4.38</td>\n",
       "      <td>229500.0</td>\n",
       "      <td>3.8</td>\n",
       "      <td>67.9</td>\n",
       "      <td>1902.0658</td>\n",
       "      <td>23185.9</td>\n",
       "      <td>5495.7024</td>\n",
       "      <td>33.8</td>\n",
       "      <td>122.7</td>\n",
       "      <td>0.501</td>\n",
       "      <td>963.0</td>\n",
       "      <td>719.0</td>\n",
       "    </tr>\n",
       "    <tr>\n",
       "      <th>2023-10-01</th>\n",
       "      <td>0.0</td>\n",
       "      <td>5.34</td>\n",
       "      <td>4.80</td>\n",
       "      <td>206750.0</td>\n",
       "      <td>3.9</td>\n",
       "      <td>63.8</td>\n",
       "      <td>1902.4276</td>\n",
       "      <td>23242.9</td>\n",
       "      <td>5497.9925</td>\n",
       "      <td>33.7</td>\n",
       "      <td>122.4</td>\n",
       "      <td>0.475</td>\n",
       "      <td>969.0</td>\n",
       "      <td>679.0</td>\n",
       "    </tr>\n",
       "    <tr>\n",
       "      <th>2023-11-01</th>\n",
       "      <td>0.0</td>\n",
       "      <td>5.27</td>\n",
       "      <td>4.50</td>\n",
       "      <td>212500.0</td>\n",
       "      <td>3.7</td>\n",
       "      <td>NaN</td>\n",
       "      <td>NaN</td>\n",
       "      <td>NaN</td>\n",
       "      <td>NaN</td>\n",
       "      <td>33.8</td>\n",
       "      <td>122.9</td>\n",
       "      <td>0.540</td>\n",
       "      <td>NaN</td>\n",
       "      <td>NaN</td>\n",
       "    </tr>\n",
       "  </tbody>\n",
       "</table>\n",
       "<p>887 rows × 14 columns</p>\n",
       "</div>"
      ],
      "text/plain": [
       "            USREC  TB3MS  GS10    IC4WSA  UNRATE  UMCSENT   CONSUMER       PI  \\\n",
       "DATE                                                                            \n",
       "1950-01-01    0.0   1.07   NaN       NaN     6.5      NaN     8.1905      NaN   \n",
       "1950-02-01    0.0   1.12   NaN       NaN     6.4      NaN     8.3569      NaN   \n",
       "1950-03-01    0.0   1.12   NaN       NaN     6.3      NaN     8.5232      NaN   \n",
       "1950-04-01    0.0   1.15   NaN       NaN     5.8      NaN     8.6946      NaN   \n",
       "1950-05-01    0.0   1.16   NaN       NaN     5.5      NaN     8.8647      NaN   \n",
       "...           ...    ...   ...       ...     ...      ...        ...      ...   \n",
       "2023-07-01    0.0   5.25  3.90  253500.0     3.5     71.5  1885.3108  22984.0   \n",
       "2023-08-01    0.0   5.30  4.17  231500.0     3.8     69.4  1895.1171  23089.1   \n",
       "2023-09-01    0.0   5.32  4.38  229500.0     3.8     67.9  1902.0658  23185.9   \n",
       "2023-10-01    0.0   5.34  4.80  206750.0     3.9     63.8  1902.4276  23242.9   \n",
       "2023-11-01    0.0   5.27  4.50  212500.0     3.7      NaN        NaN      NaN   \n",
       "\n",
       "               REALLN  AWHNONAG   AWHI  HTRUCKSSAAR  PERMIT1  HSN1F  \n",
       "DATE                                                                 \n",
       "1950-01-01    10.8820       NaN    NaN          NaN      NaN    NaN  \n",
       "1950-02-01    11.0301       NaN    NaN          NaN      NaN    NaN  \n",
       "1950-03-01    11.1819       NaN    NaN          NaN      NaN    NaN  \n",
       "1950-04-01    11.3294       NaN    NaN          NaN      NaN    NaN  \n",
       "1950-05-01    11.4721       NaN    NaN          NaN      NaN    NaN  \n",
       "...               ...       ...    ...          ...      ...    ...  \n",
       "2023-07-01  5455.8678      33.8  122.5        0.504    930.0  728.0  \n",
       "2023-08-01  5482.4762      33.8  122.5        0.544    948.0  662.0  \n",
       "2023-09-01  5495.7024      33.8  122.7        0.501    963.0  719.0  \n",
       "2023-10-01  5497.9925      33.7  122.4        0.475    969.0  679.0  \n",
       "2023-11-01        NaN      33.8  122.9        0.540      NaN    NaN  \n",
       "\n",
       "[887 rows x 14 columns]"
      ]
     },
     "execution_count": 2,
     "metadata": {},
     "output_type": "execute_result"
    }
   ],
   "source": [
    "#Only use this if last value is niot t-1\n",
    "df = df.iloc[:-1]\n",
    "df"
   ]
  },
  {
   "cell_type": "code",
   "execution_count": 3,
   "metadata": {
    "scrolled": true
   },
   "outputs": [
    {
     "data": {
      "text/html": [
       "<div>\n",
       "<style scoped>\n",
       "    .dataframe tbody tr th:only-of-type {\n",
       "        vertical-align: middle;\n",
       "    }\n",
       "\n",
       "    .dataframe tbody tr th {\n",
       "        vertical-align: top;\n",
       "    }\n",
       "\n",
       "    .dataframe thead th {\n",
       "        text-align: right;\n",
       "    }\n",
       "</style>\n",
       "<table border=\"1\" class=\"dataframe\">\n",
       "  <thead>\n",
       "    <tr style=\"text-align: right;\">\n",
       "      <th></th>\n",
       "      <th>USREC</th>\n",
       "      <th>TB3MS</th>\n",
       "      <th>GS10</th>\n",
       "      <th>IC4WSA</th>\n",
       "      <th>UNRATE</th>\n",
       "      <th>UMCSENT</th>\n",
       "      <th>CONSUMER</th>\n",
       "      <th>PI</th>\n",
       "      <th>REALLN</th>\n",
       "      <th>AWHNONAG</th>\n",
       "      <th>AWHI</th>\n",
       "      <th>HTRUCKSSAAR</th>\n",
       "      <th>PERMIT1</th>\n",
       "      <th>HSN1F</th>\n",
       "    </tr>\n",
       "    <tr>\n",
       "      <th>DATE</th>\n",
       "      <th></th>\n",
       "      <th></th>\n",
       "      <th></th>\n",
       "      <th></th>\n",
       "      <th></th>\n",
       "      <th></th>\n",
       "      <th></th>\n",
       "      <th></th>\n",
       "      <th></th>\n",
       "      <th></th>\n",
       "      <th></th>\n",
       "      <th></th>\n",
       "      <th></th>\n",
       "      <th></th>\n",
       "    </tr>\n",
       "  </thead>\n",
       "  <tbody>\n",
       "    <tr>\n",
       "      <th>2023-02-01</th>\n",
       "      <td>0.0</td>\n",
       "      <td>4.65</td>\n",
       "      <td>3.75</td>\n",
       "      <td>203250.0</td>\n",
       "      <td>3.6</td>\n",
       "      <td>66.9</td>\n",
       "      <td>1856.3038</td>\n",
       "      <td>22648.4</td>\n",
       "      <td>5403.9263</td>\n",
       "      <td>33.9</td>\n",
       "      <td>122.0</td>\n",
       "      <td>0.504</td>\n",
       "      <td>796.0</td>\n",
       "      <td>625.0</td>\n",
       "    </tr>\n",
       "    <tr>\n",
       "      <th>2023-03-01</th>\n",
       "      <td>0.0</td>\n",
       "      <td>4.69</td>\n",
       "      <td>3.66</td>\n",
       "      <td>224750.0</td>\n",
       "      <td>3.5</td>\n",
       "      <td>62.0</td>\n",
       "      <td>1867.7698</td>\n",
       "      <td>22757.9</td>\n",
       "      <td>5413.5114</td>\n",
       "      <td>33.9</td>\n",
       "      <td>122.2</td>\n",
       "      <td>0.509</td>\n",
       "      <td>829.0</td>\n",
       "      <td>640.0</td>\n",
       "    </tr>\n",
       "    <tr>\n",
       "      <th>2023-04-01</th>\n",
       "      <td>0.0</td>\n",
       "      <td>4.92</td>\n",
       "      <td>3.46</td>\n",
       "      <td>237750.0</td>\n",
       "      <td>3.4</td>\n",
       "      <td>63.7</td>\n",
       "      <td>1876.6504</td>\n",
       "      <td>22806.1</td>\n",
       "      <td>5421.1316</td>\n",
       "      <td>33.8</td>\n",
       "      <td>122.0</td>\n",
       "      <td>0.532</td>\n",
       "      <td>856.0</td>\n",
       "      <td>679.0</td>\n",
       "    </tr>\n",
       "    <tr>\n",
       "      <th>2023-05-01</th>\n",
       "      <td>0.0</td>\n",
       "      <td>5.14</td>\n",
       "      <td>3.57</td>\n",
       "      <td>237000.0</td>\n",
       "      <td>3.7</td>\n",
       "      <td>59.0</td>\n",
       "      <td>1886.1076</td>\n",
       "      <td>22876.6</td>\n",
       "      <td>5448.7047</td>\n",
       "      <td>33.8</td>\n",
       "      <td>122.2</td>\n",
       "      <td>0.565</td>\n",
       "      <td>902.0</td>\n",
       "      <td>710.0</td>\n",
       "    </tr>\n",
       "    <tr>\n",
       "      <th>2023-06-01</th>\n",
       "      <td>0.0</td>\n",
       "      <td>5.16</td>\n",
       "      <td>3.75</td>\n",
       "      <td>237500.0</td>\n",
       "      <td>3.6</td>\n",
       "      <td>64.2</td>\n",
       "      <td>1890.1704</td>\n",
       "      <td>22921.4</td>\n",
       "      <td>5442.8245</td>\n",
       "      <td>33.8</td>\n",
       "      <td>122.3</td>\n",
       "      <td>0.548</td>\n",
       "      <td>924.0</td>\n",
       "      <td>683.0</td>\n",
       "    </tr>\n",
       "    <tr>\n",
       "      <th>2023-07-01</th>\n",
       "      <td>0.0</td>\n",
       "      <td>5.25</td>\n",
       "      <td>3.90</td>\n",
       "      <td>253500.0</td>\n",
       "      <td>3.5</td>\n",
       "      <td>71.5</td>\n",
       "      <td>1885.3108</td>\n",
       "      <td>22984.0</td>\n",
       "      <td>5455.8678</td>\n",
       "      <td>33.8</td>\n",
       "      <td>122.5</td>\n",
       "      <td>0.504</td>\n",
       "      <td>930.0</td>\n",
       "      <td>728.0</td>\n",
       "    </tr>\n",
       "    <tr>\n",
       "      <th>2023-08-01</th>\n",
       "      <td>0.0</td>\n",
       "      <td>5.30</td>\n",
       "      <td>4.17</td>\n",
       "      <td>231500.0</td>\n",
       "      <td>3.8</td>\n",
       "      <td>69.4</td>\n",
       "      <td>1895.1171</td>\n",
       "      <td>23089.1</td>\n",
       "      <td>5482.4762</td>\n",
       "      <td>33.8</td>\n",
       "      <td>122.5</td>\n",
       "      <td>0.544</td>\n",
       "      <td>948.0</td>\n",
       "      <td>662.0</td>\n",
       "    </tr>\n",
       "    <tr>\n",
       "      <th>2023-09-01</th>\n",
       "      <td>0.0</td>\n",
       "      <td>5.32</td>\n",
       "      <td>4.38</td>\n",
       "      <td>229500.0</td>\n",
       "      <td>3.8</td>\n",
       "      <td>67.9</td>\n",
       "      <td>1902.0658</td>\n",
       "      <td>23185.9</td>\n",
       "      <td>5495.7024</td>\n",
       "      <td>33.8</td>\n",
       "      <td>122.7</td>\n",
       "      <td>0.501</td>\n",
       "      <td>963.0</td>\n",
       "      <td>719.0</td>\n",
       "    </tr>\n",
       "    <tr>\n",
       "      <th>2023-10-01</th>\n",
       "      <td>0.0</td>\n",
       "      <td>5.34</td>\n",
       "      <td>4.80</td>\n",
       "      <td>206750.0</td>\n",
       "      <td>3.9</td>\n",
       "      <td>63.8</td>\n",
       "      <td>1902.4276</td>\n",
       "      <td>23242.9</td>\n",
       "      <td>5497.9925</td>\n",
       "      <td>33.7</td>\n",
       "      <td>122.4</td>\n",
       "      <td>0.475</td>\n",
       "      <td>969.0</td>\n",
       "      <td>679.0</td>\n",
       "    </tr>\n",
       "    <tr>\n",
       "      <th>2023-11-01</th>\n",
       "      <td>0.0</td>\n",
       "      <td>5.27</td>\n",
       "      <td>4.50</td>\n",
       "      <td>212500.0</td>\n",
       "      <td>3.7</td>\n",
       "      <td>63.8</td>\n",
       "      <td>1911.4000</td>\n",
       "      <td>NaN</td>\n",
       "      <td>5501.9000</td>\n",
       "      <td>33.8</td>\n",
       "      <td>122.9</td>\n",
       "      <td>0.540</td>\n",
       "      <td>NaN</td>\n",
       "      <td>NaN</td>\n",
       "    </tr>\n",
       "  </tbody>\n",
       "</table>\n",
       "</div>"
      ],
      "text/plain": [
       "            USREC  TB3MS  GS10    IC4WSA  UNRATE  UMCSENT   CONSUMER       PI  \\\n",
       "DATE                                                                            \n",
       "2023-02-01    0.0   4.65  3.75  203250.0     3.6     66.9  1856.3038  22648.4   \n",
       "2023-03-01    0.0   4.69  3.66  224750.0     3.5     62.0  1867.7698  22757.9   \n",
       "2023-04-01    0.0   4.92  3.46  237750.0     3.4     63.7  1876.6504  22806.1   \n",
       "2023-05-01    0.0   5.14  3.57  237000.0     3.7     59.0  1886.1076  22876.6   \n",
       "2023-06-01    0.0   5.16  3.75  237500.0     3.6     64.2  1890.1704  22921.4   \n",
       "2023-07-01    0.0   5.25  3.90  253500.0     3.5     71.5  1885.3108  22984.0   \n",
       "2023-08-01    0.0   5.30  4.17  231500.0     3.8     69.4  1895.1171  23089.1   \n",
       "2023-09-01    0.0   5.32  4.38  229500.0     3.8     67.9  1902.0658  23185.9   \n",
       "2023-10-01    0.0   5.34  4.80  206750.0     3.9     63.8  1902.4276  23242.9   \n",
       "2023-11-01    0.0   5.27  4.50  212500.0     3.7     63.8  1911.4000      NaN   \n",
       "\n",
       "               REALLN  AWHNONAG   AWHI  HTRUCKSSAAR  PERMIT1  HSN1F  \n",
       "DATE                                                                 \n",
       "2023-02-01  5403.9263      33.9  122.0        0.504    796.0  625.0  \n",
       "2023-03-01  5413.5114      33.9  122.2        0.509    829.0  640.0  \n",
       "2023-04-01  5421.1316      33.8  122.0        0.532    856.0  679.0  \n",
       "2023-05-01  5448.7047      33.8  122.2        0.565    902.0  710.0  \n",
       "2023-06-01  5442.8245      33.8  122.3        0.548    924.0  683.0  \n",
       "2023-07-01  5455.8678      33.8  122.5        0.504    930.0  728.0  \n",
       "2023-08-01  5482.4762      33.8  122.5        0.544    948.0  662.0  \n",
       "2023-09-01  5495.7024      33.8  122.7        0.501    963.0  719.0  \n",
       "2023-10-01  5497.9925      33.7  122.4        0.475    969.0  679.0  \n",
       "2023-11-01  5501.9000      33.8  122.9        0.540      NaN    NaN  "
      ]
     },
     "execution_count": 3,
     "metadata": {},
     "output_type": "execute_result"
    }
   ],
   "source": [
    "#df['UNRATE'].iloc[-1] = 4.2\n",
    "\n",
    "umcsent_last = 63.8\n",
    "df['UMCSENT'].iloc[-1] = umcsent_last\n",
    "\n",
    "consumer_last = 1911.4\n",
    "df['CONSUMER'].iloc[-1] = consumer_last\n",
    "\n",
    "restate_last = 5501.9\n",
    "df['REALLN'].iloc[-1] = restate_last\n",
    "df.tail(10)"
   ]
  },
  {
   "cell_type": "code",
   "execution_count": 4,
   "metadata": {},
   "outputs": [
    {
     "data": {
      "text/plain": [
       "<AxesSubplot:xlabel='DATE'>"
      ]
     },
     "execution_count": 4,
     "metadata": {},
     "output_type": "execute_result"
    },
    {
     "data": {
      "image/png": "[encoded data removed]",
      "text/plain": [
       "<Figure size 432x288 with 1 Axes>"
      ]
     },
     "metadata": {
      "needs_background": "light"
     },
     "output_type": "display_data"
    }
   ],
   "source": [
    "df['AWHI'].pct_change(12).loc['2023'].plot()"
   ]
  },
  {
   "cell_type": "markdown",
   "metadata": {},
   "source": [
    "#### Note; using the three months moving average to obtain an estimated last value for \"personal income\""
   ]
  },
  {
   "cell_type": "code",
   "execution_count": 5,
   "metadata": {},
   "outputs": [],
   "source": [
    "pix = df['PI'].to_frame().iloc[:,0].rolling(window=3).mean().shift()\n",
    "df['PI'].iloc[-2:] = pix.iloc[-2:]"
   ]
  },
  {
   "cell_type": "code",
   "execution_count": null,
   "metadata": {},
   "outputs": [],
   "source": [
    "df[['AWHI','HTRUCKSSAAR','PERMIT1','HSN1F']] = df[['AWHI','HTRUCKSSAAR','PERMIT1','HSN1F']].shift(1)\n",
    "\n",
    "dx = df[:-5]\n",
    "dy = df[-5:]\n",
    "\n",
    "dy = dy.dropna(subset=['UNRATE','UMCSENT'])\n",
    "df = dx.append(dy)\n",
    "\n",
    "dmx = pd.read_excel(\"F:/Philip Odum/ICI/Quintet US ICI mastersheet (new).xlsx\", 'Monthly').set_index('Date')\n",
    "\n",
    "starta = dmx.index[-1]\n",
    "dates = pd.date_range(starta, periods=2, freq='MS')\n",
    "dfa = pd.DataFrame(df, index=dates)\n",
    "dfa[['AWHI','HTRUCKSSAAR','PERMIT1','HSN1F']] = dfa[['AWHI','HTRUCKSSAAR','PERMIT1','HSN1F']].shift(-1, axis=0)\n",
    "\n",
    "dfa['USREC'].iloc[-2] = dmx['USREC'].iloc[-1]\n",
    "dfa['TB3MS'].iloc[-2] = dmx['TB3MS'].iloc[-1]\n",
    "dfa['GS10'].iloc[-2] = dmx['GS10'].iloc[-1]\n",
    "dfa['IC4WSA'].iloc[-2] = dmx['IC4WSA'].iloc[-1]\n",
    "dfa['UNRATE'].iloc[-2] = dmx['UNRATE'].iloc[-1]\n",
    "dfa['UMCSENT'].iloc[-2] = dmx['UMCSENT'].iloc[-1]\n",
    "dfa['CONSUMER'].iloc[-2] = dmx['CONSUMER'].iloc[-1]\n",
    "dfa['PI'].iloc[-2] = dmx['PI'].iloc[-1]\n",
    "dfa['REALLN'].iloc[-2] = dmx['REALLN'].iloc[-1]\n",
    "dfa['AWHNONAG'].iloc[-2] = dmx['AWHNONAG'].iloc[-1]\n",
    "\n",
    "dma = dmx.iloc[:-1].append(dfa, ignore_index = False)\n",
    "\n",
    "df = dma\n",
    "df = df[~df['UNRATE'].isna()]\n",
    "df"
   ]
  },
  {
   "cell_type": "markdown",
   "metadata": {},
   "source": [
    "### Z Score - Yield Curve"
   ]
  },
  {
   "cell_type": "code",
   "execution_count": null,
   "metadata": {},
   "outputs": [],
   "source": [
    "spread = df['GS10']-df['TB3MS']\n",
    "spread = spread.to_frame()\n",
    "\n",
    "sma3m = spread.iloc[:,0].rolling(window=3).mean()\n",
    "sma10y = spread.iloc[:,0].rolling(window=120).mean()\n",
    "sigma10y = spread.iloc[:,0].rolling(window=120).std()\n",
    "\n",
    "z_yield = (sma3m-sma10y)/sigma10y*(-1)\n",
    "z_yield.plot()"
   ]
  },
  {
   "cell_type": "code",
   "execution_count": null,
   "metadata": {},
   "outputs": [],
   "source": [
    "z_yield"
   ]
  },
  {
   "cell_type": "markdown",
   "metadata": {},
   "source": [
    "### Z Score - Jobless Claims"
   ]
  },
  {
   "cell_type": "code",
   "execution_count": null,
   "metadata": {
    "scrolled": false
   },
   "outputs": [],
   "source": [
    "jobless = df['IC4WSA']/1000000\n",
    "jobless = jobless.to_frame()\n",
    "\n",
    "sma1m = jobless.iloc[:,0].rolling(window=1).mean()\n",
    "sma5y = jobless.iloc[:,0].rolling(window=60).mean()\n",
    "sigma5y = jobless.iloc[:,0].rolling(window=60).std()\n",
    "\n",
    "z_jobless = (sma1m-sma5y)/sigma5y*(-1)\n",
    "z_jobless.tail(20)"
   ]
  },
  {
   "cell_type": "markdown",
   "metadata": {},
   "source": [
    "### Z Score - Unemployment Rate"
   ]
  },
  {
   "cell_type": "code",
   "execution_count": null,
   "metadata": {},
   "outputs": [],
   "source": [
    "unemp = df['UNRATE']\n",
    "unemp = unemp.to_frame()\n",
    "\n",
    "sma3m = unemp.iloc[:,0].rolling(window=3).mean()\n",
    "sma5y = unemp.iloc[:,0].rolling(window=60).mean()\n",
    "sigma5y = unemp.iloc[:,0].rolling(window=60).std()\n",
    "\n",
    "z_unemp = (sma3m-sma5y)/sigma5y*(-1)\n",
    "z_unemp.tail(30)"
   ]
  },
  {
   "cell_type": "markdown",
   "metadata": {},
   "source": [
    "### Z Score - Consumer Confidence"
   ]
  },
  {
   "cell_type": "code",
   "execution_count": null,
   "metadata": {},
   "outputs": [],
   "source": [
    "df['UMCSENT'].loc['2022':].plot()"
   ]
  },
  {
   "cell_type": "code",
   "execution_count": null,
   "metadata": {},
   "outputs": [],
   "source": [
    "con_sent = df['UMCSENT'].interpolate(method='linear')\n",
    "\n",
    "con_sent = con_sent.to_frame()\n",
    "\n",
    "sma3m = con_sent.iloc[:,0].rolling(window=3).mean()\n",
    "sma10y = con_sent.iloc[:,0].rolling(window=120).mean()\n",
    "sigma10y = con_sent.iloc[:,0].rolling(window=120).std()\n",
    "start_date = datetime.datetime(2010, 4, 1)\n",
    "\n",
    "z_con_sent = (sma3m-sma10y)/sigma10y\n",
    "z_con_sent"
   ]
  },
  {
   "cell_type": "markdown",
   "metadata": {},
   "source": [
    "### Z Score - Consumer Loans"
   ]
  },
  {
   "cell_type": "code",
   "execution_count": null,
   "metadata": {},
   "outputs": [],
   "source": [
    "da = pdr.DataReader(['CLSACBW027SBOG','RELACBW027SBOG'], 'fred', start).resample(\"MS\").last()\n",
    "da[['CONSUMER','REALLN']] = da[['CLSACBW027SBOG','RELACBW027SBOG']]\n",
    "da = da.drop(['CLSACBW027SBOG','RELACBW027SBOG'], axis=1)\n",
    "db = pd.read_excel(\"F:/Philip Odum/ICI/Quintet US ICI mastersheet (new).xlsx\", 'Monthly')[['Date','CONSUMER','REALLN']].set_index('Date')\n",
    "\n",
    "dc = db.combine_first(da)\n",
    "dc = dc.fillna(dc.iloc[:,1])\n",
    "dc.tail()"
   ]
  },
  {
   "cell_type": "code",
   "execution_count": null,
   "metadata": {},
   "outputs": [],
   "source": [
    "df[['CONSUMER','REALLN']] = dc[['CONSUMER','REALLN']]"
   ]
  },
  {
   "cell_type": "code",
   "execution_count": null,
   "metadata": {},
   "outputs": [],
   "source": [
    "df['REALLN'].pct_change(12).plot()"
   ]
  },
  {
   "cell_type": "code",
   "execution_count": null,
   "metadata": {
    "scrolled": true
   },
   "outputs": [],
   "source": [
    "start_date = datetime.datetime(2010, 4, 1)\n",
    "end_date = df.last_valid_index()\n",
    "\n",
    "adj = pd.Series(340, index=pd.date_range(start_date, end_date, freq=\"MS\"))\n",
    "adj= pd.Series(adj, index=pd.date_range(start, end_date, freq=\"MS\")).fillna(0)\n",
    "consumer = df['CONSUMER']-adj\n",
    "ln_consumer = np.log(consumer)\n",
    "\n",
    "pi = df['PI']\n",
    "\n",
    "#pi = df['PI'].fillna(df['PINCOME'], inplace=False)\n",
    "pi = pi.to_frame()\n",
    "sma12m = pi.iloc[:,0].rolling(window=12).mean()\n",
    "ln_pi = np.log(sma12m)\n",
    "\n",
    "dt = pd.DataFrame()\n",
    "dt['y'] = ln_consumer\n",
    "dt['x'] = ln_pi\n",
    "\n",
    "window = 120\n",
    "\n",
    "dt = dt.dropna().shift(-1)\n",
    "\n",
    "dt['a']=None #constant\n",
    "dt['b1']=None #beta1\n",
    "for i in range(window,len(dt)):\n",
    "    temp=dt.iloc[i-window:i,:]\n",
    "    RollOLS=sm.OLS(temp.loc[:,'y'],sm.add_constant(temp.loc[:,['x']])).fit()\n",
    "    dt.iloc[i,dt.columns.get_loc('a')]=RollOLS.params[0]\n",
    "    dt.iloc[i,dt.columns.get_loc('b1')]=RollOLS.params[1]\n",
    "\n",
    "consumer=dt['y'].shift(1)-(dt['a']+dt['b1']*dt['x'].shift(1))\n",
    "consumer.tail()"
   ]
  },
  {
   "cell_type": "code",
   "execution_count": null,
   "metadata": {},
   "outputs": [],
   "source": [
    "consumer = consumer.to_frame()"
   ]
  },
  {
   "cell_type": "code",
   "execution_count": null,
   "metadata": {
    "scrolled": true
   },
   "outputs": [],
   "source": [
    "consumer"
   ]
  },
  {
   "cell_type": "code",
   "execution_count": null,
   "metadata": {},
   "outputs": [],
   "source": [
    "sma1m = consumer.iloc[:,0].rolling(window=1).mean()\n",
    "sma10y = consumer.iloc[:,0].rolling(window=120).mean()\n",
    "sigma10y = consumer.iloc[:,0].rolling(window=120).std()\n",
    "\n",
    "z_consumer = (sma1m-sma10y)/sigma10y\n",
    "z_consumer"
   ]
  },
  {
   "cell_type": "markdown",
   "metadata": {},
   "source": [
    "### Z Score - Real Estate Loans"
   ]
  },
  {
   "cell_type": "code",
   "execution_count": null,
   "metadata": {},
   "outputs": [],
   "source": [
    "restate = df['REALLN']\n",
    "ln_restate = np.log(restate)\n",
    "\n",
    "#restate = pd.DataFrame(restate,index=pd.date_range(start - pd.DateOffset(1), end_date, freq='MS')).fillna(method=\"bfill\")\n",
    "\n",
    "dt = pd.DataFrame()\n",
    "dt['y'] = ln_restate\n",
    "dt['x'] = ln_pi\n",
    "\n",
    "window = 120\n",
    "\n",
    "dt = dt.dropna().shift(-1)\n",
    "\n",
    "dt['a']=None #constant\n",
    "dt['b1']=None #beta1\n",
    "for i in range(window,len(dt)):\n",
    "    temp=dt.iloc[i-window:i,:]\n",
    "    RollOLS=sm.OLS(temp.loc[:,'y'],sm.add_constant(temp.loc[:,['x']])).fit()\n",
    "    dt.iloc[i,dt.columns.get_loc('a')]=RollOLS.params[0]\n",
    "    dt.iloc[i,dt.columns.get_loc('b1')]=RollOLS.params[1]\n",
    "\n",
    "restate=dt['y'].shift(1)-(dt['a']+dt['b1']*dt['x'].shift(1))"
   ]
  },
  {
   "cell_type": "code",
   "execution_count": null,
   "metadata": {},
   "outputs": [],
   "source": [
    "restate = restate.to_frame()"
   ]
  },
  {
   "cell_type": "code",
   "execution_count": null,
   "metadata": {},
   "outputs": [],
   "source": [
    "sma1m = restate.iloc[:,0].rolling(window=1).mean()\n",
    "sma10y = restate.iloc[:,0].rolling(window=120).mean()\n",
    "sigma10y = restate.iloc[:,0].rolling(window=120).std()\n",
    "\n",
    "z_restate = (sma1m-sma10y)/sigma10y\n",
    "z_restate.tail()"
   ]
  },
  {
   "cell_type": "markdown",
   "metadata": {},
   "source": [
    "\n",
    "### Z Score - Profit Margin"
   ]
  },
  {
   "cell_type": "code",
   "execution_count": null,
   "metadata": {},
   "outputs": [],
   "source": [
    "dv = pdr.DataReader(['A463RC1Q027SBEA','A455RC1Q027SBEA'], 'fred', start)\n",
    "dw = pd.read_excel(\"F:/Philip Odum/ICI/Quintet US ICI mastersheet (new).xlsx\", 'Quarterly').set_index('Date')\n",
    "\n",
    "de = dw.combine_first(dv)\n",
    "de = de.fillna(de.iloc[:,1])\n",
    "de"
   ]
  },
  {
   "cell_type": "code",
   "execution_count": null,
   "metadata": {},
   "outputs": [],
   "source": [
    "dv = de[:-5]\n",
    "dw = de[-5:]\n",
    "\n",
    "dw = dw.dropna(subset=['A463RC1Q027SBEA','A455RC1Q027SBEA'])\n",
    "\n",
    "de = dv.append(dw)\n",
    "de"
   ]
  },
  {
   "cell_type": "code",
   "execution_count": null,
   "metadata": {},
   "outputs": [],
   "source": [
    "pmargin = de['A463RC1Q027SBEA']/de['A455RC1Q027SBEA']*100\n",
    "pmargin = pmargin.to_frame()\n",
    "\n",
    "sma1m = pmargin.iloc[:,0].rolling(window=1).mean()\n",
    "sma10y = pmargin.iloc[:,0].rolling(window=40).mean()\n",
    "sigma10y = pmargin.iloc[:,0].rolling(window=40).std()\n",
    "\n",
    "z_pmargin = ((sma1m-sma10y)/sigma10y)\n",
    "z_pmargin = z_pmargin.resample(\"MS\").first().fillna(method='ffill')\n",
    "\n",
    "zff = z_pmargin.iloc[-1]\n",
    "start = z_pmargin.index[-1] + pd.DateOffset(months=1)\n",
    "dates = pd.date_range(start, periods=2, freq='MS')\n",
    "zff = pd.DataFrame(zff, index=dates, columns=['pmargin'])\n",
    "zfx = pd.DataFrame(z_pmargin)\n",
    "zfx = zfx.append(zff, ignore_index = False)\n",
    "zfx['pmargin'].fillna(zfx.T.iloc[0], inplace=True)\n",
    "z_pmargin = zfx.T.iloc[1]\n",
    "z_pmargin"
   ]
  },
  {
   "cell_type": "markdown",
   "metadata": {},
   "source": [
    "### Z Score - Hours Worked"
   ]
  },
  {
   "cell_type": "code",
   "execution_count": null,
   "metadata": {},
   "outputs": [],
   "source": [
    "hworked = df['AWHI']\n",
    "hworked = hworked.to_frame()\n",
    "\n",
    "sma1m = hworked.iloc[:,0].rolling(window=1).mean()\n",
    "sma5y = hworked.iloc[:,0].rolling(window=60).mean()\n",
    "sigma5y = hworked.iloc[:,0].rolling(window=60).std()\n",
    "\n",
    "z_hworked = (sma1m-sma5y)/sigma5y\n",
    "z_hworked"
   ]
  },
  {
   "cell_type": "markdown",
   "metadata": {},
   "source": [
    "### Z Score - Trucks"
   ]
  },
  {
   "cell_type": "code",
   "execution_count": null,
   "metadata": {},
   "outputs": [],
   "source": [
    "trucks = df['HTRUCKSSAAR']\n",
    "trucks = trucks.to_frame()\n",
    "\n",
    "sma1m = trucks.iloc[:,0].rolling(window=1).mean()\n",
    "sma10y = trucks.iloc[:,0].rolling(window=120).mean()\n",
    "sigma10y = trucks.iloc[:,0].rolling(window=120).std()\n",
    "\n",
    "z_trucks = (sma1m-sma10y)/sigma10y\n",
    "z_trucks"
   ]
  },
  {
   "cell_type": "markdown",
   "metadata": {},
   "source": [
    "### Z Score - Housing"
   ]
  },
  {
   "cell_type": "code",
   "execution_count": null,
   "metadata": {},
   "outputs": [],
   "source": [
    "permit = df['PERMIT1']\n",
    "permit = permit.to_frame()\n",
    "\n",
    "sma1m = permit.iloc[:,0].rolling(window=1).mean()\n",
    "sma10y = permit.iloc[:,0].rolling(window=120).mean()\n",
    "sigma10y = permit.iloc[:,0].rolling(window=120).std()\n",
    "\n",
    "z_permit = (sma1m-sma10y)/sigma10y\n",
    "z_permit"
   ]
  },
  {
   "cell_type": "code",
   "execution_count": null,
   "metadata": {},
   "outputs": [],
   "source": [
    "houses = df['HSN1F']\n",
    "houses = houses.to_frame()\n",
    "\n",
    "sma1m = houses.iloc[:,0].rolling(window=1).mean()\n",
    "sma10y = houses.iloc[:,0].rolling(window=120).mean()\n",
    "sigma10y = houses.iloc[:,0].rolling(window=120).std()\n",
    "\n",
    "z_houses = (sma1m-sma10y)/sigma10y\n",
    "z_houses"
   ]
  },
  {
   "cell_type": "markdown",
   "metadata": {},
   "source": [
    "### Z Score - Main Table"
   ]
  },
  {
   "cell_type": "code",
   "execution_count": null,
   "metadata": {},
   "outputs": [],
   "source": [
    "z = pd.DataFrame()"
   ]
  },
  {
   "cell_type": "code",
   "execution_count": null,
   "metadata": {},
   "outputs": [],
   "source": [
    "z['z_yield'] = z_yield\n",
    "z['z_jobless'] = z_jobless\n",
    "z['z_unemp'] = z_unemp\n",
    "z['z_con_sent'] = z_con_sent\n",
    "z['z_consumer'] = z_consumer\n",
    "z['z_restate'] = z_restate\n",
    "z['z_pmargin'] = z_pmargin\n",
    "z['z_trucks'] = z_trucks\n",
    "z['z_permit'] = z_permit\n",
    "z['z_houses'] = z_houses\n",
    "z['z_hworked'] = z_hworked\n",
    "z.tail(10)"
   ]
  },
  {
   "cell_type": "code",
   "execution_count": null,
   "metadata": {
    "scrolled": false
   },
   "outputs": [],
   "source": [
    "z['z_unemp'] = z['z_unemp'].shift(1)\n",
    "z['z_pmargin'] = z['z_pmargin'].shift(5)\n",
    "z['z_trucks'] = z['z_trucks'].shift(1)\n",
    "z['z_houses'] = z['z_houses'].shift(1)\n",
    "z['z_permit'] = z['z_permit'].shift(1)\n",
    "z['z_hworked'] = z['z_hworked'].shift(1)\n",
    "zs = z\n",
    "zs.tail()"
   ]
  },
  {
   "cell_type": "markdown",
   "metadata": {},
   "source": [
    "### Average Z Score"
   ]
  },
  {
   "cell_type": "code",
   "execution_count": null,
   "metadata": {},
   "outputs": [],
   "source": [
    "weight = np.ones(len(z.T))\n",
    "z_average = np.sum(weight*z, axis=1)/len(z.T)\n",
    "z_average.tail()"
   ]
  },
  {
   "cell_type": "code",
   "execution_count": null,
   "metadata": {},
   "outputs": [],
   "source": [
    "zdata = z_average\n",
    "zdata = zdata.to_frame()"
   ]
  },
  {
   "cell_type": "markdown",
   "metadata": {},
   "source": [
    "### Quintet ICI - cycle periods"
   ]
  },
  {
   "cell_type": "code",
   "execution_count": null,
   "metadata": {},
   "outputs": [],
   "source": [
    "sma3m = zdata.iloc[:,0].rolling(window=3).mean()\n",
    "sma1y = zdata.iloc[:,0].rolling(window=12).mean()\n",
    "\n",
    "z = z.T.iloc[0:0].T\n",
    "\n",
    "z['average'] = z_average\n",
    "z['expansion'] = z_average[(z_average > 0) & (sma3m-sma1y > 0)]\n",
    "z['late cycle'] = z_average[(z_average > 0) & (sma3m-sma1y < 0)]\n",
    "z['recession'] = z_average[(z_average < 0) & (sma3m-sma1y < 0)]\n",
    "z['recovery'] = z_average[(z_average < 0) & (sma3m-sma1y > 0)]\n",
    "z.tail(10)"
   ]
  },
  {
   "cell_type": "code",
   "execution_count": null,
   "metadata": {},
   "outputs": [],
   "source": [
    "spex = pd.DataFrame()\n",
    "spex['3mma'] = sma3m\n",
    "spex['1yma'] = sma1y"
   ]
  },
  {
   "cell_type": "code",
   "execution_count": null,
   "metadata": {},
   "outputs": [],
   "source": [
    "book = load_workbook('F:/Philip Odum/ICI/Quintet US ICI mastersheet (new).xlsx')\n",
    "writer = pd.ExcelWriter('F:/Philip Odum/ICI/Quintet US ICI mastersheet (new).xlsx', engine='openpyxl') \n",
    "writer.book = book\n",
    "writer.sheets = dict((ws.title, ws) for ws in book.worksheets)\n",
    "\n",
    "spex.to_excel(writer, \"Special1\", startrow=0, startcol=0)\n",
    "\n",
    "writer.save()"
   ]
  },
  {
   "cell_type": "code",
   "execution_count": null,
   "metadata": {},
   "outputs": [],
   "source": [
    "start = z.index[0]\n",
    "end = z.index[-1]\n",
    "\n",
    "ici_phase = pd.DataFrame(columns=['average'], index=pd.date_range(start, end_date)).resample(\"MS\").first()"
   ]
  },
  {
   "cell_type": "code",
   "execution_count": null,
   "metadata": {},
   "outputs": [],
   "source": [
    "ici_phase['average1'] = np.where((z['expansion'].isna()), '', 'Expansion')\n",
    "ici_phase['average2'] = np.where((z['late cycle'].isna()), '', 'Late cycle')\n",
    "ici_phase['average3'] = np.where((z['recession'].isna()), '', 'Recession')\n",
    "ici_phase['average4'] = np.where((z['recovery'].isna()), '', 'Recovery')\n",
    "ici_phase['average'] = ici_phase['average1']  + ici_phase['average2'] + ici_phase['average3'] + ici_phase['average4']\n",
    "ici = ici_phase['average']\n",
    "ici.tail()"
   ]
  },
  {
   "cell_type": "markdown",
   "metadata": {},
   "source": [
    "### Quintet ICI - component breakdown"
   ]
  },
  {
   "cell_type": "code",
   "execution_count": null,
   "metadata": {},
   "outputs": [],
   "source": [
    "momentum = pd.DataFrame(columns=['yield'], index=pd.date_range(start, end_date)).resample(\"MS\").first()"
   ]
  },
  {
   "cell_type": "code",
   "execution_count": null,
   "metadata": {},
   "outputs": [],
   "source": [
    "zyield = z_yield\n",
    "zyield = zyield.to_frame()\n",
    "\n",
    "zjobless = z_jobless\n",
    "zjobless = zjobless.to_frame()\n",
    "\n",
    "zunemp = z_unemp\n",
    "zunemp = zunemp.to_frame()\n",
    "\n",
    "zcon_sent = z_con_sent\n",
    "zcon_sent = zcon_sent.to_frame()\n",
    "\n",
    "zconsumer = z_consumer\n",
    "zconsumer = zconsumer.to_frame()\n",
    "\n",
    "zrestate = z_restate\n",
    "zrestate = zrestate.to_frame()\n",
    "\n",
    "zpmargin = z_pmargin\n",
    "zpmargin = zpmargin.to_frame()\n",
    "\n",
    "ztrucks = z_trucks\n",
    "ztrucks = ztrucks.to_frame()\n",
    "\n",
    "zpermit = z_permit\n",
    "zpermit = zpermit.to_frame()\n",
    "\n",
    "zhouses = z_houses\n",
    "zhouses = zhouses.to_frame()\n",
    "\n",
    "zhworked = z_hworked\n",
    "zhworked = zhworked.to_frame()"
   ]
  },
  {
   "cell_type": "code",
   "execution_count": null,
   "metadata": {},
   "outputs": [],
   "source": [
    "sma3m = zyield.iloc[:,0].rolling(window=3).mean()\n",
    "sma1y = zyield.iloc[:,0].rolling(window=12).mean()\n",
    "yield_momentum = sma3m - sma1y\n",
    "\n",
    "sma3m = zjobless.iloc[:,0].rolling(window=3).mean()\n",
    "sma1y = zjobless.iloc[:,0].rolling(window=12).mean()\n",
    "jobless_momentum = sma3m - sma1y\n",
    "\n",
    "sma3m = zunemp.iloc[:,0].rolling(window=3).mean()\n",
    "sma1y = zunemp.iloc[:,0].rolling(window=12).mean()\n",
    "unemp_momentum = sma3m - sma1y\n",
    "\n",
    "sma3m = zcon_sent.iloc[:,0].rolling(window=3).mean()\n",
    "sma1y = zcon_sent.iloc[:,0].rolling(window=12).mean()\n",
    "con_sent_momentum = sma3m - sma1y\n",
    "\n",
    "sma3m = zconsumer.iloc[:,0].rolling(window=3).mean()\n",
    "sma1y = zconsumer.iloc[:,0].rolling(window=12).mean()\n",
    "consumer_momentum = sma3m - sma1y\n",
    "\n",
    "sma3m = zrestate.iloc[:,0].rolling(window=3).mean()\n",
    "sma1y = zrestate.iloc[:,0].rolling(window=12).mean()\n",
    "restate_momentum = sma3m - sma1y\n",
    "\n",
    "sma3m = zpmargin.iloc[:,0].rolling(window=3).mean()\n",
    "sma1y = zpmargin.iloc[:,0].rolling(window=12).mean()\n",
    "pmargin_momentum = sma3m - sma1y\n",
    "\n",
    "sma3m = ztrucks.iloc[:,0].rolling(window=3).mean()\n",
    "sma1y = ztrucks.iloc[:,0].rolling(window=12).mean()\n",
    "trucks_momentum = sma3m - sma1y\n",
    "\n",
    "sma3m = zpermit.iloc[:,0].rolling(window=3).mean()\n",
    "sma1y = zpermit.iloc[:,0].rolling(window=12).mean()\n",
    "permit_momentum = sma3m - sma1y\n",
    "\n",
    "sma3m = zhouses.iloc[:,0].rolling(window=3).mean()\n",
    "sma1y = zhouses.iloc[:,0].rolling(window=12).mean()\n",
    "houses_momentum = sma3m - sma1y\n",
    "\n",
    "sma3m = zhworked.iloc[:,0].rolling(window=3).mean()\n",
    "sma1y = zhworked.iloc[:,0].rolling(window=12).mean()\n",
    "hworked_momentum = sma3m - sma1y"
   ]
  },
  {
   "cell_type": "code",
   "execution_count": null,
   "metadata": {},
   "outputs": [],
   "source": [
    "momentum_comp = pd.DataFrame(columns=['yield'], index=pd.date_range(start, end_date)).resample(\"MS\").first()"
   ]
  },
  {
   "cell_type": "code",
   "execution_count": null,
   "metadata": {},
   "outputs": [],
   "source": [
    "momentum_comp['yield'] = yield_momentum\n",
    "momentum_comp['jobless'] = jobless_momentum\n",
    "momentum_comp['unemp'] = unemp_momentum.shift(1)\n",
    "momentum_comp['con_sent'] = con_sent_momentum\n",
    "momentum_comp['consumer'] = consumer_momentum\n",
    "momentum_comp['restate'] = restate_momentum\n",
    "momentum_comp['pmargin'] = pmargin_momentum.shift(periods=5, freq='infer')\n",
    "momentum_comp['trucks'] = trucks_momentum.shift(1)\n",
    "momentum_comp['permit'] = permit_momentum.shift(1)\n",
    "momentum_comp['houses'] = houses_momentum.shift(1)\n",
    "momentum_comp['hworked'] = hworked_momentum.shift(1)\n",
    "\n",
    "momentum_comp = momentum_comp\n",
    "momentum_comp.tail()"
   ]
  },
  {
   "cell_type": "code",
   "execution_count": null,
   "metadata": {},
   "outputs": [],
   "source": [
    "momentum['yield1'] = np.where((zs['z_yield'] > 0) & (momentum_comp['yield'] > 0), 'Expansion', '')\n",
    "momentum['yield2'] = np.where((zs['z_yield'] > 0) & (momentum_comp['yield'] < 0), 'Late cycle', '')\n",
    "momentum['yield3'] = np.where((zs['z_yield'] < 0) & (momentum_comp['yield'] > 0), 'Recovery', '')\n",
    "momentum['yield4'] = np.where((zs['z_yield'] < 0) & (momentum_comp['yield'] < 0), 'Recession', '')\n",
    "\n",
    "momentum['jobless1'] = np.where((zs['z_jobless'] > 0) & (momentum_comp['jobless'] > 0), 'Expansion', '')\n",
    "momentum['jobless2'] = np.where((zs['z_jobless'] > 0) & (momentum_comp['jobless'] < 0), 'Late cycle', '')\n",
    "momentum['jobless3'] = np.where((zs['z_jobless'] < 0) & (momentum_comp['jobless'] > 0), 'Recovery', '')\n",
    "momentum['jobless4'] = np.where((zs['z_jobless'] < 0) & (momentum_comp['jobless'] < 0), 'Recession', '')\n",
    "\n",
    "momentum['unemp1'] = np.where((zs['z_unemp'] > 0) & (momentum_comp['unemp'] > 0), 'Expansion', '')\n",
    "momentum['unemp2'] = np.where((zs['z_unemp'] > 0) & (momentum_comp['unemp'] < 0), 'Late cycle', '')\n",
    "momentum['unemp3'] = np.where((zs['z_unemp'] < 0) & (momentum_comp['unemp'] > 0), 'Recovery', '')\n",
    "momentum['unemp4'] = np.where((zs['z_unemp'] < 0) & (momentum_comp['unemp'] < 0), 'Recession', '')\n",
    "\n",
    "momentum['con_sent1'] = np.where((zs['z_con_sent'] > 0) & (momentum_comp['con_sent'] > 0), 'Expansion', '')\n",
    "momentum['con_sent2'] = np.where((zs['z_con_sent'] > 0) & (momentum_comp['con_sent'] < 0), 'Late cycle', '')\n",
    "momentum['con_sent3'] = np.where((zs['z_con_sent'] < 0) & (momentum_comp['con_sent'] > 0), 'Recovery', '')\n",
    "momentum['con_sent4'] = np.where((zs['z_con_sent'] < 0) & (momentum_comp['con_sent'] < 0), 'Recession', '')\n",
    "\n",
    "momentum['consumer1'] = np.where((zs['z_consumer'] > 0) & (momentum_comp['consumer'] > 0), 'Expansion', '')\n",
    "momentum['consumer2'] = np.where((zs['z_consumer'] > 0) & (momentum_comp['consumer'] < 0), 'Late cycle', '')\n",
    "momentum['consumer3'] = np.where((zs['z_consumer'] < 0) & (momentum_comp['consumer'] > 0), 'Recovery', '')\n",
    "momentum['consumer4'] = np.where((zs['z_consumer'] < 0) & (momentum_comp['consumer'] < 0), 'Recession', '')\n",
    "\n",
    "momentum['restate1'] = np.where((zs['z_restate'] > 0) & (momentum_comp['restate'] > 0), 'Expansion', '')\n",
    "momentum['restate2'] = np.where((zs['z_restate'] > 0) & (momentum_comp['restate'] < 0), 'Late cycle', '')\n",
    "momentum['restate3'] = np.where((zs['z_restate'] < 0) & (momentum_comp['restate'] > 0), 'Recovery', '')\n",
    "momentum['restate4'] = np.where((zs['z_restate'] < 0) & (momentum_comp['restate'] < 0), 'Recession', '')\n",
    "\n",
    "momentum['pmargin1'] = np.where((zs['z_pmargin'] > 0) & (momentum_comp['pmargin'] > 0), 'Expansion', '')\n",
    "momentum['pmargin2'] = np.where((zs['z_pmargin'] > 0) & (momentum_comp['pmargin'] < 0), 'Late cycle', '')\n",
    "momentum['pmargin3'] = np.where((zs['z_pmargin'] < 0) & (momentum_comp['pmargin'] > 0), 'Recovery', '')\n",
    "momentum['pmargin4'] = np.where((zs['z_pmargin'] < 0) & (momentum_comp['pmargin'] < 0), 'Recession', '')\n",
    "\n",
    "momentum['trucks1'] = np.where((zs['z_trucks'] > 0) & (momentum_comp['trucks'] > 0), 'Expansion', '')\n",
    "momentum['trucks2'] = np.where((zs['z_trucks'] > 0) & (momentum_comp['trucks'] < 0), 'Late cycle', '')\n",
    "momentum['trucks3'] = np.where((zs['z_trucks'] < 0) & (momentum_comp['trucks'] > 0), 'Recovery', '')\n",
    "momentum['trucks4'] = np.where((zs['z_trucks'] < 0) & (momentum_comp['trucks'] < 0), 'Recession', '')\n",
    "\n",
    "momentum['permit1'] = np.where((zs['z_permit'] > 0) & (momentum_comp['permit'] > 0), 'Expansion', '')\n",
    "momentum['permit2'] = np.where((zs['z_permit'] > 0) & (momentum_comp['permit'] < 0), 'Late cycle', '')\n",
    "momentum['permit3'] = np.where((zs['z_permit'] < 0) & (momentum_comp['permit'] > 0), 'Recovery', '')\n",
    "momentum['permit4'] = np.where((zs['z_permit'] < 0) & (momentum_comp['permit'] < 0), 'Recession', '')\n",
    "\n",
    "momentum['houses1'] = np.where((zs['z_houses'] > 0) & (momentum_comp['houses'] > 0), 'Expansion', '')\n",
    "momentum['houses2'] = np.where((zs['z_houses'] > 0) & (momentum_comp['houses'] < 0), 'Late cycle', '')\n",
    "momentum['houses3'] = np.where((zs['z_houses'] < 0) & (momentum_comp['houses'] > 0), 'Recovery', '')\n",
    "momentum['houses4'] = np.where((zs['z_houses'] < 0) & (momentum_comp['houses'] < 0), 'Recession', '')\n",
    "\n",
    "momentum['hworked1'] = np.where((zs['z_hworked'] > 0) & (momentum_comp['hworked'] > 0), 'Expansion', '')\n",
    "momentum['hworked2'] = np.where((zs['z_hworked'] > 0) & (momentum_comp['hworked'] < 0), 'Late cycle', '')\n",
    "momentum['hworked3'] = np.where((zs['z_hworked'] < 0) & (momentum_comp['hworked'] > 0), 'Recovery', '')\n",
    "momentum['hworked4'] = np.where((zs['z_hworked'] < 0) & (momentum_comp['hworked'] < 0), 'Recession', '')"
   ]
  },
  {
   "cell_type": "code",
   "execution_count": null,
   "metadata": {},
   "outputs": [],
   "source": [
    "momentum['yield'] = momentum['yield1'] + momentum['yield2'] + momentum['yield3'] + momentum['yield4']\n",
    "momentum['jobless'] = momentum['jobless1'] + momentum['jobless2'] + momentum['jobless3'] + momentum['jobless4']\n",
    "momentum['unemp'] = momentum['unemp1'] + momentum['unemp2'] + momentum['unemp3'] + momentum['unemp4']\n",
    "momentum['con_sent'] = momentum['con_sent1'] + momentum['con_sent2'] + momentum['con_sent3'] + momentum['con_sent4']\n",
    "momentum['consumer'] = momentum['consumer1'] + momentum['consumer2'] + momentum['consumer3'] + momentum['consumer4']\n",
    "momentum['restate'] = momentum['restate1'] + momentum['restate2'] + momentum['restate3'] + momentum['restate4']\n",
    "momentum['pmargin'] = momentum['pmargin1'] + momentum['pmargin2'] + momentum['pmargin3'] + momentum['pmargin4']\n",
    "momentum['trucks'] = momentum['trucks1'] + momentum['trucks2'] + momentum['trucks3'] + momentum['trucks4']\n",
    "momentum['permit'] = momentum['permit1'] + momentum['permit2'] + momentum['permit3'] + momentum['permit4']\n",
    "momentum['houses'] = momentum['houses1'] + momentum['houses2'] + momentum['houses3'] + momentum['houses4']\n",
    "momentum['hworked'] = momentum['hworked1'] + momentum['hworked2'] + momentum['hworked3'] + momentum['hworked4']"
   ]
  },
  {
   "cell_type": "code",
   "execution_count": null,
   "metadata": {},
   "outputs": [],
   "source": [
    "momentum = momentum[['yield','jobless','unemp','con_sent','consumer','restate','pmargin','trucks','permit','houses','hworked']]\n",
    "momentum.tail()"
   ]
  },
  {
   "cell_type": "code",
   "execution_count": null,
   "metadata": {},
   "outputs": [],
   "source": [
    "table = momentum[['hworked', 'jobless', 'unemp', 'pmargin', 'trucks', 'permit', 'houses', 'con_sent', 'yield', 'consumer', 'restate']]"
   ]
  },
  {
   "cell_type": "code",
   "execution_count": null,
   "metadata": {
    "scrolled": true
   },
   "outputs": [],
   "source": [
    "table['total'] = ici\n",
    "table = table.iloc[-2:].T\n",
    "table"
   ]
  },
  {
   "cell_type": "markdown",
   "metadata": {},
   "source": [
    "### Upload to excel"
   ]
  },
  {
   "cell_type": "code",
   "execution_count": null,
   "metadata": {},
   "outputs": [],
   "source": [
    "book = load_workbook('F:/Philip Odum/ICI/Quintet US ICI mastersheet (new).xlsx')\n",
    "writer = pd.ExcelWriter('F:/Philip Odum/ICI/Quintet US ICI mastersheet (new).xlsx', engine='openpyxl') \n",
    "writer.book = book\n",
    "writer.sheets = dict((ws.title, ws) for ws in book.worksheets)\n",
    "\n",
    "de.to_excel(writer, \"Quarterly\")\n",
    "\n",
    "writer.save()"
   ]
  },
  {
   "cell_type": "code",
   "execution_count": null,
   "metadata": {},
   "outputs": [],
   "source": [
    "book = load_workbook('F:/Philip Odum/ICI/Quintet US ICI mastersheet (new).xlsx')\n",
    "writer = pd.ExcelWriter('F:/Philip Odum/ICI/Quintet US ICI mastersheet (new).xlsx', engine='openpyxl') \n",
    "writer.book = book\n",
    "writer.sheets = dict((ws.title, ws) for ws in book.worksheets)\n",
    "\n",
    "df.to_excel(writer, \"Monthly\")\n",
    "\n",
    "writer.save()"
   ]
  },
  {
   "cell_type": "code",
   "execution_count": null,
   "metadata": {},
   "outputs": [],
   "source": [
    "zd = z\n",
    "\n",
    "book = load_workbook('F:/Philip Odum/ICI/Quintet US ICI mastersheet (new).xlsx')\n",
    "writer = pd.ExcelWriter('F:/Philip Odum/ICI/Quintet US ICI mastersheet (new).xlsx', engine='openpyxl') \n",
    "writer.book = book\n",
    "writer.sheets = dict((ws.title, ws) for ws in book.worksheets)\n",
    "\n",
    "zd.to_excel(writer, \"Summary\")\n",
    "\n",
    "writer.save()"
   ]
  },
  {
   "cell_type": "code",
   "execution_count": null,
   "metadata": {},
   "outputs": [],
   "source": [
    "book = load_workbook('F:/Philip Odum/ICI/Quintet US ICI mastersheet (new).xlsx')\n",
    "writer = pd.ExcelWriter('F:/Philip Odum/ICI/Quintet US ICI mastersheet (new).xlsx', engine='openpyxl') \n",
    "writer.book = book\n",
    "writer.sheets = dict((ws.title, ws) for ws in book.worksheets)\n",
    "\n",
    "table.to_excel(writer, \"Table\", startrow=9, startcol=12)\n",
    "\n",
    "writer.save()"
   ]
  },
  {
   "cell_type": "code",
   "execution_count": null,
   "metadata": {},
   "outputs": [],
   "source": [
    "component = pd.concat([zs, momentum_comp, momentum], axis=1)\n",
    "\n",
    "book = load_workbook('F:/Philip Odum/ICI/Quintet US ICI mastersheet (new).xlsx')\n",
    "writer = pd.ExcelWriter('F:/Philip Odum/ICI/Quintet US ICI mastersheet (new).xlsx', engine='openpyxl') \n",
    "writer.book = book\n",
    "writer.sheets = dict((ws.title, ws) for ws in book.worksheets)\n",
    "\n",
    "zs.to_excel(writer, \"Component Z-Score\")\n",
    "\n",
    "writer.save()"
   ]
  },
  {
   "cell_type": "code",
   "execution_count": null,
   "metadata": {},
   "outputs": [],
   "source": [
    "component = pd.concat([zs, momentum_comp, momentum], axis=1)\n",
    "\n",
    "book = load_workbook('F:/Philip Odum/ICI/Quintet US ICI mastersheet (new).xlsx')\n",
    "writer = pd.ExcelWriter('F:/Philip Odum/ICI/Quintet US ICI mastersheet (new).xlsx', engine='openpyxl') \n",
    "writer.book = book\n",
    "writer.sheets = dict((ws.title, ws) for ws in book.worksheets)\n",
    "\n",
    "momentum_comp.to_excel(writer, \"Component Momentum\")\n",
    "\n",
    "writer.save()"
   ]
  },
  {
   "cell_type": "code",
   "execution_count": null,
   "metadata": {},
   "outputs": [],
   "source": [
    "component = pd.concat([zs, momentum_comp, momentum], axis=1)\n",
    "\n",
    "book = load_workbook('F:/Philip Odum/ICI/Quintet US ICI mastersheet (new).xlsx')\n",
    "writer = pd.ExcelWriter('F:/Philip Odum/ICI/Quintet US ICI mastersheet (new).xlsx', engine='openpyxl') \n",
    "writer.book = book\n",
    "writer.sheets = dict((ws.title, ws) for ws in book.worksheets)\n",
    "\n",
    "momentum.to_excel(writer, \"Component Phase\")\n",
    "\n",
    "writer.save()"
   ]
  },
  {
   "cell_type": "code",
   "execution_count": null,
   "metadata": {},
   "outputs": [],
   "source": [
    "pdr.DataReader(['SP500'], 'fred', '1950-01-01').resample(\"MS\").first()"
   ]
  },
  {
   "cell_type": "code",
   "execution_count": null,
   "metadata": {},
   "outputs": [],
   "source": [
    "#Data from Refinitiv\n",
    "bt = pd.read_excel('F:/Philip Odum/ICI/Quintet US ICI mastersheet (new).xlsx', 'Input - Daily').set_index('Date').resample('D').mean().fillna(method='ffill')\n",
    "bt['.SPX'].plot()"
   ]
  },
  {
   "cell_type": "code",
   "execution_count": null,
   "metadata": {},
   "outputs": [],
   "source": [
    "#IMPORTANT - S&P500\n",
    "spx = pdr.DataReader(['SP500'], 'fred', start).resample(\"MS\").first()\n",
    "\n",
    "book = load_workbook('F:/Philip Odum/ICI/Quintet US ICI mastersheet (new).xlsx')\n",
    "writer = pd.ExcelWriter('F:/Philip Odum/ICI/Quintet US ICI mastersheet (new).xlsx', engine='openpyxl') \n",
    "writer.book = book\n",
    "writer.sheets = dict((ws.title, ws) for ws in book.worksheets)\n",
    "\n",
    "spx.to_excel(writer, \"SPX\")\n",
    "\n",
    "writer.save()"
   ]
  },
  {
   "cell_type": "markdown",
   "metadata": {},
   "source": [
    "### Source\n",
    "\n",
    "- https://fred.stlouisfed.org/series/USREC\n",
    "- https://fred.stlouisfed.org/series/TB3MS\n",
    "- https://fred.stlouisfed.org/series/GS10\n",
    "- https://fred.stlouisfed.org/series/IC4WSA\n",
    "- https://fred.stlouisfed.org/series/UNRATE\n",
    "- https://fred.stlouisfed.org/series/UMCSENT\n",
    "- https://fred.stlouisfed.org/series/CONSUMER\n",
    "- https://fred.stlouisfed.org/series/PI\n",
    "- https://fred.stlouisfed.org/series/REALLN\n",
    "- https://fred.stlouisfed.org/series/AWHNONAG\n",
    "- https://fred.stlouisfed.org/series/AWHI\n",
    "- https://fred.stlouisfed.org/series/HTRUCKSSAR\n",
    "- https://fred.stlouisfed.org/series/PERMIT1\n",
    "- https://fred.stlouisfed.org/series/HSNF1\n",
    "- https://fred.stlouisfed.org/series/A463RC1Q027SBEA\n",
    "- https://fred.stlouisfed.org/series/A455RC1Q027SBEA"
   ]
  },
  {
   "cell_type": "markdown",
   "metadata": {},
   "source": [
    "### Back Testing"
   ]
  },
  {
   "cell_type": "code",
   "execution_count": null,
   "metadata": {},
   "outputs": [],
   "source": [
    "#Data from Refinitiv\n",
    "bt = pd.read_excel('F:/Philip Odum/ICI/Quintet US ICI mastersheet (new).xlsx', 'Input - Daily').set_index('Date').resample('D').mean().fillna(method='ffill')\n",
    "bt = bt['.SPX']\n",
    "bt.plot()"
   ]
  },
  {
   "cell_type": "code",
   "execution_count": null,
   "metadata": {},
   "outputs": [],
   "source": [
    "zz"
   ]
  },
  {
   "cell_type": "code",
   "execution_count": null,
   "metadata": {},
   "outputs": [],
   "source": [
    "zz = ici.resample('M').last().resample('D').fillna(method='bfill').loc['1955-01-01':ici.index[-1]]\n",
    "zz = pd.DataFrame(zz)\n",
    "\n",
    "zz['base'] = bt.pct_change()+1\n",
    "zz['base'] = zz['base'].fillna(method='bfill')\n",
    "\n",
    "zz.loc[zz['average'] == 'Expansion', 'Invest'] = 1\n",
    "#zz.loc[zz['average'] == 'Recession', 'Invest'] = -1\n",
    "zz.loc[zz['Invest'] == 1, 'Expansion1'] = zz['base']\n",
    "zz['Expansion1'] = zz['Expansion1'].cumprod().fillna(method='ffill').fillna(1)\n",
    "zz['Expansion1'].plot()"
   ]
  },
  {
   "cell_type": "code",
   "execution_count": null,
   "metadata": {},
   "outputs": [],
   "source": [
    "zz = ici.resample('M').last().resample('D').fillna(method='bfill').loc['1955-01-01':ici.index[-1]]\n",
    "zz = pd.DataFrame(zz)\n",
    "\n",
    "zz['base'] = bt.pct_change()+1\n",
    "zz['base'] = zz['base'].fillna(method='bfill')\n",
    "\n",
    "scenario = ['Expansion','Recovery','Late cycle','Recession']\n",
    "\n",
    "for i in scenario:\n",
    "    zz.loc[zz['average'] == i, 'Invest'] = 1\n",
    "    zz.loc[zz['average'] != i, 'Invest'] = ''\n",
    "    zz.loc[zz['Invest'] == 1, i] = zz['base']\n",
    "    zz[i] = zz[i].cumprod().fillna(method='ffill').fillna(1)\n",
    "    \n",
    "perf = zz.T.iloc[3:].T-1\n",
    "perf"
   ]
  },
  {
   "cell_type": "code",
   "execution_count": null,
   "metadata": {},
   "outputs": [],
   "source": [
    "perf['SPX'] = (bt/bt.loc['1955-01-01'])-1\n",
    "perf[scenario].plot()"
   ]
  },
  {
   "cell_type": "code",
   "execution_count": null,
   "metadata": {},
   "outputs": [],
   "source": [
    "perf[['Expansion','SPX']].plot()"
   ]
  },
  {
   "cell_type": "code",
   "execution_count": null,
   "metadata": {},
   "outputs": [],
   "source": [
    "perf.mean()"
   ]
  },
  {
   "cell_type": "code",
   "execution_count": null,
   "metadata": {},
   "outputs": [],
   "source": [
    "btm = bt.resample('MS').mean().pct_change()*100\n",
    "df['SPX'] = btm\n",
    "\n",
    "book = load_workbook('F:/Philip Odum/ICI/Quintet US ICI mastersheet (new).xlsx')\n",
    "writer = pd.ExcelWriter('F:/Philip Odum/ICI/Quintet US ICI mastersheet (new).xlsx', engine='openpyxl') \n",
    "writer.book = book\n",
    "writer.sheets = dict((ws.title, ws) for ws in book.worksheets)\n",
    "\n",
    "df.to_excel(writer, \"Monthly\")\n",
    "\n",
    "writer.save()"
   ]
  },
  {
   "cell_type": "markdown",
   "metadata": {},
   "source": [
    "# Correlation"
   ]
  },
  {
   "cell_type": "markdown",
   "metadata": {},
   "source": [
    "### ICI vs Output Gap"
   ]
  },
  {
   "cell_type": "code",
   "execution_count": null,
   "metadata": {
    "scrolled": true
   },
   "outputs": [],
   "source": [
    "test = pd.read_excel('F:/Philip Odum/ICI/Quintet US ICI mastersheet (new).xlsx', 'Input - Annual').set_index('Date').resample('MS').mean()\n",
    "test['Output Gap - Refinitiv - month'] = test['Output Gap - Refinitiv'].interpolate()\n",
    "test['ICI'] = z_average\n",
    "test"
   ]
  },
  {
   "cell_type": "code",
   "execution_count": null,
   "metadata": {},
   "outputs": [],
   "source": [
    "testy = test[['Output Gap - Refinitiv','ICI']].resample('YS').mean()\n",
    "\n",
    "corry3y = testy['Output Gap - Refinitiv'].rolling(3).corr(testy['ICI'])\n",
    "corry5y = testy['Output Gap - Refinitiv'].rolling(5).corr(testy['ICI'])\n",
    "\n",
    "testy.corr()"
   ]
  },
  {
   "cell_type": "code",
   "execution_count": null,
   "metadata": {},
   "outputs": [],
   "source": [
    "testm = test[['Output Gap - Refinitiv - month','ICI']]\n",
    "testm.columns = ['Output Gap','ICI']\n",
    "\n",
    "corrm1y = testm['Output Gap'].rolling(12).corr(testm['ICI'])\n",
    "corrm3y = testm['Output Gap'].rolling(36).corr(testm['ICI'])\n",
    "corrm5y = testm['Output Gap'].rolling(60).corr(testm['ICI'])\n",
    "\n",
    "testm.corr()"
   ]
  },
  {
   "cell_type": "code",
   "execution_count": null,
   "metadata": {},
   "outputs": [],
   "source": [
    "testm['corrm1y'] = corrm1y\n",
    "testm['corrm3y'] = corrm3y\n",
    "testm['corrm5y'] = corrm5y\n",
    "\n",
    "testy['corry3y'] = corry3y\n",
    "testy['corry5y'] = corry5y"
   ]
  },
  {
   "cell_type": "code",
   "execution_count": null,
   "metadata": {},
   "outputs": [],
   "source": [
    "gdp = pdr.DataReader(['GDP'], 'fred', start).pct_change().resample(\"MS\").first()\n",
    "gdp.tail()"
   ]
  },
  {
   "cell_type": "code",
   "execution_count": null,
   "metadata": {},
   "outputs": [],
   "source": [
    "gdp['GDP - month'] = gdp['GDP'].interpolate()\n",
    "gdp['ICI'] = z_average\n",
    "gdp"
   ]
  },
  {
   "cell_type": "code",
   "execution_count": null,
   "metadata": {},
   "outputs": [],
   "source": [
    "gdpq = gdp[['GDP','ICI']].resample('QS').mean()\n",
    "\n",
    "corrgdpq3y = gdpq['GDP'].rolling(3).corr(gdpq['ICI'])\n",
    "corrgdpq5y = gdpq['GDP'].rolling(5).corr(gdpq['ICI'])\n",
    "\n",
    "gdpq.corr()"
   ]
  },
  {
   "cell_type": "code",
   "execution_count": null,
   "metadata": {},
   "outputs": [],
   "source": [
    "gdpm = gdp[['GDP - month','ICI']]\n",
    "gdpm.columns = ['GDP','ICI']\n",
    "\n",
    "corrgdpm1y = gdpm['GDP'].rolling(12).corr(gdpm['ICI'])\n",
    "corrgdpm3y = gdpm['GDP'].rolling(36).corr(gdpm['ICI'])\n",
    "corrgdpm5y = gdpm['GDP'].rolling(60).corr(gdpm['ICI'])\n",
    "\n",
    "gdpm.corr()"
   ]
  },
  {
   "cell_type": "code",
   "execution_count": null,
   "metadata": {},
   "outputs": [],
   "source": [
    "gdpm['corrm1y'] = corrgdpm1y\n",
    "gdpm['corrm3y'] = corrgdpm3y\n",
    "gdpm['corrm5y'] = corrgdpm5y\n",
    "\n",
    "gdpq['corry3y'] = corrgdpq3y\n",
    "gdpq['corry5y'] = corrgdpq5y"
   ]
  },
  {
   "cell_type": "code",
   "execution_count": null,
   "metadata": {},
   "outputs": [],
   "source": [
    "gdpm"
   ]
  },
  {
   "cell_type": "code",
   "execution_count": null,
   "metadata": {},
   "outputs": [],
   "source": [
    "book = load_workbook('F:/Philip Odum/ICI/Quintet US ICI mastersheet (new).xlsx')\n",
    "writer = pd.ExcelWriter('F:/Philip Odum/ICI/Quintet US ICI mastersheet (new).xlsx', engine='openpyxl') \n",
    "writer.book = book\n",
    "writer.sheets = dict((ws.title, ws) for ws in book.worksheets)\n",
    "\n",
    "testy.to_excel(writer, \"Correlation\", startrow=1)\n",
    "testm.to_excel(writer, \"Correlation\", startrow=1, startcol=7)\n",
    "gdpq.to_excel(writer, \"Correlation\", startrow=1, startcol=14)\n",
    "gdpm.to_excel(writer, \"Correlation\", startrow=1, startcol=22)\n",
    "\n",
    "writer.save()"
   ]
  },
  {
   "cell_type": "code",
   "execution_count": null,
   "metadata": {},
   "outputs": [],
   "source": [
    "df"
   ]
  },
  {
   "cell_type": "code",
   "execution_count": null,
   "metadata": {},
   "outputs": [],
   "source": []
  },
  {
   "cell_type": "code",
   "execution_count": null,
   "metadata": {},
   "outputs": [],
   "source": []
  }
 ],
 "metadata": {
  "kernelspec": {
   "display_name": "Python 3",
   "language": "python",
   "name": "python3"
  },
  "language_info": {
   "codemirror_mode": {
    "name": "ipython",
    "version": 3
   },
   "file_extension": ".py",
   "mimetype": "text/x-python",
   "name": "python",
   "nbconvert_exporter": "python",
   "pygments_lexer": "ipython3",
   "version": "3.8.5"
  }
 },
 "nbformat": 4,
 "nbformat_minor": 5
}
