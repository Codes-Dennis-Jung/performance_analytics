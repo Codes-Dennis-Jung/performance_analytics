{
 "cells": [
  {
   "cell_type": "code",
   "execution_count": 1,
   "metadata": {},
   "outputs": [],
   "source": [
    "import pandas_datareader as pdr\n",
    "import pandas as pd\n",
    "import numpy as np\n",
    "import datetime\n",
    "import time\n",
    "from datetime import date\n",
    "import statsmodels.api as sm\n",
    "import scipy.stats\n",
    "from scipy.stats import norm\n",
    "import matplotlib.pyplot as plt\n",
    "\n",
    "mypath = 'C:/Users/lavella/Quintet Private Bank/UK Sandbox DPT ICS - Documents/Sector Selection - Copy/Philip Odum/Philip Odum/'\n",
    "import openpyxl\n",
    "from openpyxl import load_workbook\n",
    "\n",
    "start = datetime.datetime (1950, 1, 1)\n",
    "df1 = pd.read_excel(mypath+'ICI/Quintet US ICI mastersheet (new).xlsx','Summary').set_index('Date').resample('M').last()\n",
    "df2 = pd.read_excel(mypath+'Inflation/Data/Conference Board - Leading Indicator.xlsx').set_index('Date').resample('M').last()\n",
    "df3 = pd.read_excel(mypath+'Inflation/Data/Counterpoint Weekly - Recession Data.xlsx').set_index('Date')\n",
    "df4 = pd.read_excel(mypath+'Inflation/Data/Counterpoint Weekly - OIS 3m18m.xlsx','Input - Bloomberg')\n",
    "df5 = pd.read_excel(mypath+'Inflation/Data/Counterpoint Weekly - OIS 3m18m.xlsx','Output - 3X18')\n",
    "\n",
    "df = pdr.DataReader(['DGS3MO','DGS2','DGS5','DGS10','DGS30','SAHMREALTIME','SAHMCURRENT','RECPROUSM156N','JHGDPBRINDX','USRECD','BAMLC0A4CBBB','GDPC1','GNP','USREC'], 'fred', start)"
   ]
  },
  {
   "cell_type": "code",
   "execution_count": 2,
   "metadata": {},
   "outputs": [],
   "source": [
    "dx = pd.read_excel(mypath+'Inflation/Data/Counterpoint Weekly - OIS 3m18m.xlsx','Output - 3X18').iloc[:,1:3].set_index('Date2').dropna()\n",
    "dy = pd.read_excel(mypath+'Inflation/Data/Counterpoint Weekly - OIS 3m18m.xlsx','Input - Refinitiv').set_index('Name')"
   ]
  },
  {
   "cell_type": "markdown",
   "metadata": {},
   "source": [
    "### Recession ban"
   ]
  },
  {
   "cell_type": "code",
   "execution_count": 3,
   "metadata": {},
   "outputs": [
    {
     "data": {
      "text/plain": [
       "<AxesSubplot:xlabel='DATE'>"
      ]
     },
     "execution_count": 3,
     "metadata": {},
     "output_type": "execute_result"
    },
    {
     "data": {
      "image/png": "[encoded data removed]",
      "text/plain": [
       "<Figure size 432x288 with 1 Axes>"
      ]
     },
     "metadata": {
      "needs_background": "light"
     },
     "output_type": "display_data"
    }
   ],
   "source": [
    "#See if you can incorporate NY Fed recession\n",
    "df['USREC'] = df.iloc[:,-1].fillna(method='ffill')\n",
    "df['USREC'].plot()"
   ]
  },
  {
   "cell_type": "code",
   "execution_count": 4,
   "metadata": {},
   "outputs": [
    {
     "data": {
      "text/plain": [
       "DATE\n",
       "1950-01-01    0.0\n",
       "1950-01-02    0.0\n",
       "1950-01-03    0.0\n",
       "1950-01-04    0.0\n",
       "1950-01-05    0.0\n",
       "             ... \n",
       "2024-08-01    0.0\n",
       "2024-08-02    0.0\n",
       "2024-08-03    0.0\n",
       "2024-08-04    0.0\n",
       "2024-08-05    0.0\n",
       "Freq: D, Name: USREC, Length: 27246, dtype: float64"
      ]
     },
     "execution_count": 4,
     "metadata": {},
     "output_type": "execute_result"
    }
   ],
   "source": [
    "df['USREC']"
   ]
  },
  {
   "cell_type": "markdown",
   "metadata": {},
   "source": [
    "### Create 3M3X18"
   ]
  },
  {
   "cell_type": "code",
   "execution_count": 5,
   "metadata": {},
   "outputs": [
    {
     "data": {
      "text/html": [
       "<div>\n",
       "<style scoped>\n",
       "    .dataframe tbody tr th:only-of-type {\n",
       "        vertical-align: middle;\n",
       "    }\n",
       "\n",
       "    .dataframe tbody tr th {\n",
       "        vertical-align: top;\n",
       "    }\n",
       "\n",
       "    .dataframe thead th {\n",
       "        text-align: right;\n",
       "    }\n",
       "</style>\n",
       "<table border=\"1\" class=\"dataframe\">\n",
       "  <thead>\n",
       "    <tr style=\"text-align: right;\">\n",
       "      <th></th>\n",
       "      <th>3X18</th>\n",
       "    </tr>\n",
       "  </thead>\n",
       "  <tbody>\n",
       "    <tr>\n",
       "      <th>1961-06-14</th>\n",
       "      <td>3.829396</td>\n",
       "    </tr>\n",
       "    <tr>\n",
       "      <th>1961-06-15</th>\n",
       "      <td>3.893479</td>\n",
       "    </tr>\n",
       "    <tr>\n",
       "      <th>1961-06-16</th>\n",
       "      <td>3.887552</td>\n",
       "    </tr>\n",
       "    <tr>\n",
       "      <th>1961-06-19</th>\n",
       "      <td>3.942042</td>\n",
       "    </tr>\n",
       "    <tr>\n",
       "      <th>1961-06-20</th>\n",
       "      <td>3.901772</td>\n",
       "    </tr>\n",
       "    <tr>\n",
       "      <th>...</th>\n",
       "      <td>...</td>\n",
       "    </tr>\n",
       "    <tr>\n",
       "      <th>2024-07-26</th>\n",
       "      <td>4.209500</td>\n",
       "    </tr>\n",
       "    <tr>\n",
       "      <th>2024-07-29</th>\n",
       "      <td>4.227700</td>\n",
       "    </tr>\n",
       "    <tr>\n",
       "      <th>2024-07-30</th>\n",
       "      <td>4.176400</td>\n",
       "    </tr>\n",
       "    <tr>\n",
       "      <th>2024-07-31</th>\n",
       "      <td>4.074800</td>\n",
       "    </tr>\n",
       "    <tr>\n",
       "      <th>2024-08-01</th>\n",
       "      <td>3.928100</td>\n",
       "    </tr>\n",
       "  </tbody>\n",
       "</table>\n",
       "<p>15817 rows × 1 columns</p>\n",
       "</div>"
      ],
      "text/plain": [
       "                3X18\n",
       "1961-06-14  3.829396\n",
       "1961-06-15  3.893479\n",
       "1961-06-16  3.887552\n",
       "1961-06-19  3.942042\n",
       "1961-06-20  3.901772\n",
       "...              ...\n",
       "2024-07-26  4.209500\n",
       "2024-07-29  4.227700\n",
       "2024-07-30  4.176400\n",
       "2024-07-31  4.074800\n",
       "2024-08-01  3.928100\n",
       "\n",
       "[15817 rows x 1 columns]"
      ]
     },
     "execution_count": 5,
     "metadata": {},
     "output_type": "execute_result"
    }
   ],
   "source": [
    "dz = pd.concat([dx,dy],axis=1)\n",
    "dz = dz.iloc[:,0].fillna(dz.iloc[:,1]).to_frame().iloc[:-1]\n",
    "dz.columns = ['3X18']\n",
    "\n",
    "df = pd.concat([df,dz],axis=1)\n",
    "\n",
    "dz"
   ]
  },
  {
   "cell_type": "code",
   "execution_count": 6,
   "metadata": {},
   "outputs": [
    {
     "data": {
      "text/plain": [
       "1950-01-01       NaN\n",
       "1950-01-02       NaN\n",
       "1950-01-03       NaN\n",
       "1950-01-04       NaN\n",
       "1950-01-05       NaN\n",
       "               ...  \n",
       "2024-08-01    3.9281\n",
       "2024-08-02       NaN\n",
       "2024-08-03       NaN\n",
       "2024-08-04       NaN\n",
       "2024-08-05       NaN\n",
       "Freq: D, Name: 3X18, Length: 27246, dtype: float64"
      ]
     },
     "execution_count": 6,
     "metadata": {},
     "output_type": "execute_result"
    }
   ],
   "source": [
    "df.iloc[:,14]"
   ]
  },
  {
   "cell_type": "markdown",
   "metadata": {},
   "source": [
    "### Spreads"
   ]
  },
  {
   "cell_type": "code",
   "execution_count": 7,
   "metadata": {},
   "outputs": [
    {
     "data": {
      "text/html": [
       "<div>\n",
       "<style scoped>\n",
       "    .dataframe tbody tr th:only-of-type {\n",
       "        vertical-align: middle;\n",
       "    }\n",
       "\n",
       "    .dataframe tbody tr th {\n",
       "        vertical-align: top;\n",
       "    }\n",
       "\n",
       "    .dataframe thead th {\n",
       "        text-align: right;\n",
       "    }\n",
       "</style>\n",
       "<table border=\"1\" class=\"dataframe\">\n",
       "  <thead>\n",
       "    <tr style=\"text-align: right;\">\n",
       "      <th></th>\n",
       "      <th>USREC</th>\n",
       "      <th>3m30y</th>\n",
       "      <th>2y30y</th>\n",
       "      <th>3m10y</th>\n",
       "      <th>2y10y</th>\n",
       "      <th>3m5y</th>\n",
       "      <th>2y5y</th>\n",
       "      <th>3m3x18</th>\n",
       "    </tr>\n",
       "  </thead>\n",
       "  <tbody>\n",
       "    <tr>\n",
       "      <th>2023-11-30</th>\n",
       "      <td>0.0</td>\n",
       "      <td>-0.91</td>\n",
       "      <td>-0.19</td>\n",
       "      <td>-1.08</td>\n",
       "      <td>-0.36</td>\n",
       "      <td>-1.14</td>\n",
       "      <td>-0.42</td>\n",
       "      <td>-0.8584</td>\n",
       "    </tr>\n",
       "    <tr>\n",
       "      <th>2023-12-31</th>\n",
       "      <td>0.0</td>\n",
       "      <td>-1.37</td>\n",
       "      <td>-0.20</td>\n",
       "      <td>-1.52</td>\n",
       "      <td>-0.35</td>\n",
       "      <td>-1.56</td>\n",
       "      <td>-0.39</td>\n",
       "      <td>-1.3040</td>\n",
       "    </tr>\n",
       "    <tr>\n",
       "      <th>2024-01-31</th>\n",
       "      <td>0.0</td>\n",
       "      <td>-1.20</td>\n",
       "      <td>-0.05</td>\n",
       "      <td>-1.43</td>\n",
       "      <td>-0.28</td>\n",
       "      <td>-1.51</td>\n",
       "      <td>-0.36</td>\n",
       "      <td>-1.2919</td>\n",
       "    </tr>\n",
       "    <tr>\n",
       "      <th>2024-02-29</th>\n",
       "      <td>0.0</td>\n",
       "      <td>-1.07</td>\n",
       "      <td>-0.26</td>\n",
       "      <td>-1.20</td>\n",
       "      <td>-0.39</td>\n",
       "      <td>-1.19</td>\n",
       "      <td>-0.38</td>\n",
       "      <td>-0.8584</td>\n",
       "    </tr>\n",
       "    <tr>\n",
       "      <th>2024-03-31</th>\n",
       "      <td>0.0</td>\n",
       "      <td>-1.12</td>\n",
       "      <td>-0.25</td>\n",
       "      <td>-1.26</td>\n",
       "      <td>-0.39</td>\n",
       "      <td>-1.25</td>\n",
       "      <td>-0.38</td>\n",
       "      <td>-0.8443</td>\n",
       "    </tr>\n",
       "    <tr>\n",
       "      <th>2024-04-30</th>\n",
       "      <td>0.0</td>\n",
       "      <td>-0.67</td>\n",
       "      <td>-0.25</td>\n",
       "      <td>-0.77</td>\n",
       "      <td>-0.35</td>\n",
       "      <td>-0.74</td>\n",
       "      <td>-0.32</td>\n",
       "      <td>-0.4226</td>\n",
       "    </tr>\n",
       "    <tr>\n",
       "      <th>2024-05-31</th>\n",
       "      <td>0.0</td>\n",
       "      <td>-0.81</td>\n",
       "      <td>-0.24</td>\n",
       "      <td>-0.95</td>\n",
       "      <td>-0.38</td>\n",
       "      <td>-0.94</td>\n",
       "      <td>-0.37</td>\n",
       "      <td>-0.6081</td>\n",
       "    </tr>\n",
       "    <tr>\n",
       "      <th>2024-06-30</th>\n",
       "      <td>0.0</td>\n",
       "      <td>-0.97</td>\n",
       "      <td>-0.20</td>\n",
       "      <td>-1.12</td>\n",
       "      <td>-0.35</td>\n",
       "      <td>-1.15</td>\n",
       "      <td>-0.38</td>\n",
       "      <td>-0.8370</td>\n",
       "    </tr>\n",
       "    <tr>\n",
       "      <th>2024-07-31</th>\n",
       "      <td>0.0</td>\n",
       "      <td>-1.06</td>\n",
       "      <td>0.06</td>\n",
       "      <td>-1.32</td>\n",
       "      <td>-0.20</td>\n",
       "      <td>-1.44</td>\n",
       "      <td>-0.32</td>\n",
       "      <td>-1.3352</td>\n",
       "    </tr>\n",
       "    <tr>\n",
       "      <th>2024-08-31</th>\n",
       "      <td>0.0</td>\n",
       "      <td>-1.29</td>\n",
       "      <td>0.17</td>\n",
       "      <td>-1.57</td>\n",
       "      <td>-0.11</td>\n",
       "      <td>-1.73</td>\n",
       "      <td>-0.27</td>\n",
       "      <td>-1.4219</td>\n",
       "    </tr>\n",
       "  </tbody>\n",
       "</table>\n",
       "</div>"
      ],
      "text/plain": [
       "            USREC  3m30y  2y30y  3m10y  2y10y  3m5y  2y5y  3m3x18\n",
       "2023-11-30    0.0  -0.91  -0.19  -1.08  -0.36 -1.14 -0.42 -0.8584\n",
       "2023-12-31    0.0  -1.37  -0.20  -1.52  -0.35 -1.56 -0.39 -1.3040\n",
       "2024-01-31    0.0  -1.20  -0.05  -1.43  -0.28 -1.51 -0.36 -1.2919\n",
       "2024-02-29    0.0  -1.07  -0.26  -1.20  -0.39 -1.19 -0.38 -0.8584\n",
       "2024-03-31    0.0  -1.12  -0.25  -1.26  -0.39 -1.25 -0.38 -0.8443\n",
       "2024-04-30    0.0  -0.67  -0.25  -0.77  -0.35 -0.74 -0.32 -0.4226\n",
       "2024-05-31    0.0  -0.81  -0.24  -0.95  -0.38 -0.94 -0.37 -0.6081\n",
       "2024-06-30    0.0  -0.97  -0.20  -1.12  -0.35 -1.15 -0.38 -0.8370\n",
       "2024-07-31    0.0  -1.06   0.06  -1.32  -0.20 -1.44 -0.32 -1.3352\n",
       "2024-08-31    0.0  -1.29   0.17  -1.57  -0.11 -1.73 -0.27 -1.4219"
      ]
     },
     "execution_count": 7,
     "metadata": {},
     "output_type": "execute_result"
    }
   ],
   "source": [
    "inv = df.resample('M').last()\n",
    "\n",
    "inv['3m30y']=inv[inv.columns[4]].sub(inv[inv.columns[0]])\n",
    "inv['2y30y']=inv[inv.columns[4]].sub(inv[inv.columns[1]])\n",
    "inv['3m10y']=inv[inv.columns[3]].sub(inv[inv.columns[0]])\n",
    "inv['2y10y']=inv[inv.columns[3]].sub(inv[inv.columns[1]])\n",
    "inv['3m5y']=inv[inv.columns[2]].sub(inv[inv.columns[0]])\n",
    "inv['2y5y']=inv[inv.columns[2]].sub(inv[inv.columns[1]])\n",
    "\n",
    "inv['3m3x18'] = inv[inv.columns[14]].sub(inv[inv.columns[0]])\n",
    "\n",
    "inv = inv[inv.columns[[13,15,16,17,18,19,20,21]]]\n",
    "inv.tail(10)"
   ]
  },
  {
   "cell_type": "markdown",
   "metadata": {},
   "source": [
    "### Recession Frequency"
   ]
  },
  {
   "cell_type": "code",
   "execution_count": 8,
   "metadata": {},
   "outputs": [
    {
     "data": {
      "text/plain": [
       "0.12374581939799331"
      ]
     },
     "execution_count": 8,
     "metadata": {},
     "output_type": "execute_result"
    }
   ],
   "source": [
    "recfreq = df['USRECD'].resample('Q').last().cumsum().iloc[-1]/len(df['USRECD'].resample('Q').last())\n",
    "recfreq"
   ]
  },
  {
   "cell_type": "code",
   "execution_count": 9,
   "metadata": {
    "scrolled": true
   },
   "outputs": [
    {
     "data": {
      "text/plain": [
       "<AxesSubplot:>"
      ]
     },
     "execution_count": 9,
     "metadata": {},
     "output_type": "execute_result"
    },
    {
     "data": {
      "image/png": "[encoded data removed]",
      "text/plain": [
       "<Figure size 432x288 with 1 Axes>"
      ]
     },
     "metadata": {
      "needs_background": "light"
     },
     "output_type": "display_data"
    }
   ],
   "source": [
    "er = df['USRECD'].cumsum()/len(df['USRECD'])\n",
    "er.plot()"
   ]
  },
  {
   "cell_type": "markdown",
   "metadata": {},
   "source": [
    "### Spread US 2 year vs US 3 month (test)"
   ]
  },
  {
   "cell_type": "code",
   "execution_count": 10,
   "metadata": {},
   "outputs": [],
   "source": [
    "#Importent, set lag\n",
    "lag = 1"
   ]
  },
  {
   "cell_type": "code",
   "execution_count": 11,
   "metadata": {},
   "outputs": [
    {
     "name": "stdout",
     "output_type": "stream",
     "text": [
      "Optimization terminated successfully.\n",
      "         Current function value: 0.273613\n",
      "         Iterations 6\n"
     ]
    },
    {
     "data": {
      "text/plain": [
       "<AxesSubplot:>"
      ]
     },
     "execution_count": 11,
     "metadata": {},
     "output_type": "execute_result"
    },
    {
     "data": {
      "image/png": "[encoded data removed]",
      "text/plain": [
       "<Figure size 432x288 with 1 Axes>"
      ]
     },
     "metadata": {
      "needs_background": "light"
     },
     "output_type": "display_data"
    }
   ],
   "source": [
    "freq = 'Q'\n",
    "\n",
    "fd = df.copy()\n",
    "s1 = fd[fd.columns[4]]\n",
    "s2 = fd[fd.columns[1]]\n",
    "X = s1.sub(s2).fillna(method='ffill').dropna().resample(freq).min()\n",
    "\n",
    "X.loc[X>0] = 1\n",
    "X.loc[X<0] = 0\n",
    "\n",
    "y = fd['USREC'].resample(freq).min()\n",
    "\n",
    "r1 = -24\n",
    "r2 = 100\n",
    "def createList(r1, r2):\n",
    "    return list(range(r1, r2+1))\n",
    "obs = createList(r1, r2)\n",
    "\n",
    "corr = pd.DataFrame(columns=['Correlation'])\n",
    "X11 = pd.DataFrame()\n",
    "for i in obs:\n",
    "    try:\n",
    "        X11 = y.shift(i).corr(X)\n",
    "    except:\n",
    "        pass\n",
    "    corr = corr.append({'Correlation': X11}, ignore_index=True)\n",
    "#corr = abs(corr)\n",
    "\n",
    "corr.index=range(r1,r2+1)\n",
    "\n",
    "\n",
    "#Determine number of lags\n",
    "#lag = corr.index.max()\n",
    "#lag = 6\n",
    "\n",
    "\n",
    "X = X.shift(lag).dropna()\n",
    "X = sm.add_constant(X)\n",
    "\n",
    "y = y.loc[X.dropna().index[0]:]\n",
    "\n",
    "prob = sm.Probit(y,X).fit()\n",
    "\n",
    "pred = s1.sub(s2).fillna(method='ffill').dropna().resample(freq).min()\n",
    "mu = 0\n",
    "sigma = 1\n",
    "\n",
    "\n",
    "dx = prob.params['const']+prob.params[0]*pred\n",
    "dx = dx.loc[X.dropna().index[0]:]\n",
    "\n",
    "X['rec'] = df['USRECD']\n",
    "\n",
    "X['model'] = norm.cdf(dx,loc=mu,scale=sigma)\n",
    "#X[['rec','model']].plot()\n",
    "y3 = X['model']\n",
    "y3.plot()"
   ]
  },
  {
   "cell_type": "markdown",
   "metadata": {},
   "source": [
    "### For Combined measure"
   ]
  },
  {
   "cell_type": "code",
   "execution_count": 12,
   "metadata": {},
   "outputs": [
    {
     "data": {
      "text/html": [
       "<div>\n",
       "<style scoped>\n",
       "    .dataframe tbody tr th:only-of-type {\n",
       "        vertical-align: middle;\n",
       "    }\n",
       "\n",
       "    .dataframe tbody tr th {\n",
       "        vertical-align: top;\n",
       "    }\n",
       "\n",
       "    .dataframe thead th {\n",
       "        text-align: right;\n",
       "    }\n",
       "</style>\n",
       "<table border=\"1\" class=\"dataframe\">\n",
       "  <thead>\n",
       "    <tr style=\"text-align: right;\">\n",
       "      <th></th>\n",
       "      <th>USREC</th>\n",
       "      <th>3m30y</th>\n",
       "      <th>2y30y</th>\n",
       "      <th>3m10y</th>\n",
       "      <th>2y10y</th>\n",
       "      <th>3m5y</th>\n",
       "      <th>2y5y</th>\n",
       "      <th>3m3x18</th>\n",
       "    </tr>\n",
       "  </thead>\n",
       "  <tbody>\n",
       "    <tr>\n",
       "      <th>1981-09-30</th>\n",
       "      <td>1.0</td>\n",
       "      <td>0.14</td>\n",
       "      <td>-1.50</td>\n",
       "      <td>0.79</td>\n",
       "      <td>-0.85</td>\n",
       "      <td>1.22</td>\n",
       "      <td>-0.42</td>\n",
       "      <td>0.753079</td>\n",
       "    </tr>\n",
       "    <tr>\n",
       "      <th>1981-12-31</th>\n",
       "      <td>1.0</td>\n",
       "      <td>2.11</td>\n",
       "      <td>0.02</td>\n",
       "      <td>2.44</td>\n",
       "      <td>0.35</td>\n",
       "      <td>2.43</td>\n",
       "      <td>0.34</td>\n",
       "      <td>2.042769</td>\n",
       "    </tr>\n",
       "    <tr>\n",
       "      <th>1982-03-31</th>\n",
       "      <td>1.0</td>\n",
       "      <td>-0.31</td>\n",
       "      <td>-0.84</td>\n",
       "      <td>0.19</td>\n",
       "      <td>-0.34</td>\n",
       "      <td>0.40</td>\n",
       "      <td>-0.13</td>\n",
       "      <td>-0.154095</td>\n",
       "    </tr>\n",
       "    <tr>\n",
       "      <th>1982-06-30</th>\n",
       "      <td>1.0</td>\n",
       "      <td>0.55</td>\n",
       "      <td>-0.75</td>\n",
       "      <td>1.08</td>\n",
       "      <td>-0.22</td>\n",
       "      <td>1.29</td>\n",
       "      <td>-0.01</td>\n",
       "      <td>0.875066</td>\n",
       "    </tr>\n",
       "    <tr>\n",
       "      <th>1982-09-30</th>\n",
       "      <td>1.0</td>\n",
       "      <td>3.91</td>\n",
       "      <td>0.56</td>\n",
       "      <td>3.85</td>\n",
       "      <td>0.50</td>\n",
       "      <td>3.81</td>\n",
       "      <td>0.46</td>\n",
       "      <td>3.870951</td>\n",
       "    </tr>\n",
       "    <tr>\n",
       "      <th>...</th>\n",
       "      <td>...</td>\n",
       "      <td>...</td>\n",
       "      <td>...</td>\n",
       "      <td>...</td>\n",
       "      <td>...</td>\n",
       "      <td>...</td>\n",
       "      <td>...</td>\n",
       "      <td>...</td>\n",
       "    </tr>\n",
       "    <tr>\n",
       "      <th>2023-09-30</th>\n",
       "      <td>0.0</td>\n",
       "      <td>-0.82</td>\n",
       "      <td>-0.30</td>\n",
       "      <td>-0.96</td>\n",
       "      <td>-0.44</td>\n",
       "      <td>-0.95</td>\n",
       "      <td>-0.43</td>\n",
       "      <td>-0.418200</td>\n",
       "    </tr>\n",
       "    <tr>\n",
       "      <th>2023-12-31</th>\n",
       "      <td>0.0</td>\n",
       "      <td>-1.37</td>\n",
       "      <td>-0.20</td>\n",
       "      <td>-1.52</td>\n",
       "      <td>-0.35</td>\n",
       "      <td>-1.56</td>\n",
       "      <td>-0.39</td>\n",
       "      <td>-1.304000</td>\n",
       "    </tr>\n",
       "    <tr>\n",
       "      <th>2024-03-31</th>\n",
       "      <td>0.0</td>\n",
       "      <td>-1.12</td>\n",
       "      <td>-0.25</td>\n",
       "      <td>-1.26</td>\n",
       "      <td>-0.39</td>\n",
       "      <td>-1.25</td>\n",
       "      <td>-0.38</td>\n",
       "      <td>-0.844300</td>\n",
       "    </tr>\n",
       "    <tr>\n",
       "      <th>2024-06-30</th>\n",
       "      <td>0.0</td>\n",
       "      <td>-0.97</td>\n",
       "      <td>-0.20</td>\n",
       "      <td>-1.12</td>\n",
       "      <td>-0.35</td>\n",
       "      <td>-1.15</td>\n",
       "      <td>-0.38</td>\n",
       "      <td>-0.837000</td>\n",
       "    </tr>\n",
       "    <tr>\n",
       "      <th>2024-09-30</th>\n",
       "      <td>0.0</td>\n",
       "      <td>-1.29</td>\n",
       "      <td>0.17</td>\n",
       "      <td>-1.57</td>\n",
       "      <td>-0.11</td>\n",
       "      <td>-1.73</td>\n",
       "      <td>-0.27</td>\n",
       "      <td>-1.421900</td>\n",
       "    </tr>\n",
       "  </tbody>\n",
       "</table>\n",
       "<p>173 rows × 8 columns</p>\n",
       "</div>"
      ],
      "text/plain": [
       "            USREC  3m30y  2y30y  3m10y  2y10y  3m5y  2y5y    3m3x18\n",
       "1981-09-30    1.0   0.14  -1.50   0.79  -0.85  1.22 -0.42  0.753079\n",
       "1981-12-31    1.0   2.11   0.02   2.44   0.35  2.43  0.34  2.042769\n",
       "1982-03-31    1.0  -0.31  -0.84   0.19  -0.34  0.40 -0.13 -0.154095\n",
       "1982-06-30    1.0   0.55  -0.75   1.08  -0.22  1.29 -0.01  0.875066\n",
       "1982-09-30    1.0   3.91   0.56   3.85   0.50  3.81  0.46  3.870951\n",
       "...           ...    ...    ...    ...    ...   ...   ...       ...\n",
       "2023-09-30    0.0  -0.82  -0.30  -0.96  -0.44 -0.95 -0.43 -0.418200\n",
       "2023-12-31    0.0  -1.37  -0.20  -1.52  -0.35 -1.56 -0.39 -1.304000\n",
       "2024-03-31    0.0  -1.12  -0.25  -1.26  -0.39 -1.25 -0.38 -0.844300\n",
       "2024-06-30    0.0  -0.97  -0.20  -1.12  -0.35 -1.15 -0.38 -0.837000\n",
       "2024-09-30    0.0  -1.29   0.17  -1.57  -0.11 -1.73 -0.27 -1.421900\n",
       "\n",
       "[173 rows x 8 columns]"
      ]
     },
     "execution_count": 12,
     "metadata": {},
     "output_type": "execute_result"
    }
   ],
   "source": [
    "inv = inv.dropna().resample('Q').last()\n",
    "inv"
   ]
  },
  {
   "cell_type": "markdown",
   "metadata": {},
   "source": [
    "##### Select recession"
   ]
  },
  {
   "cell_type": "code",
   "execution_count": 13,
   "metadata": {},
   "outputs": [
    {
     "data": {
      "text/plain": [
       "'USREC'"
      ]
     },
     "execution_count": 13,
     "metadata": {},
     "output_type": "execute_result"
    }
   ],
   "source": [
    "#USRECD = 9\n",
    "#NYFed_Rec = 13\n",
    "\n",
    "rec1 = df.columns[13]\n",
    "rec1"
   ]
  },
  {
   "cell_type": "markdown",
   "metadata": {},
   "source": [
    "##### Get statistis from Probit regression"
   ]
  },
  {
   "cell_type": "code",
   "execution_count": 14,
   "metadata": {},
   "outputs": [],
   "source": [
    "#https://www.statsmodels.org/stable/generated/statsmodels.discrete.discrete_model.Probit.html"
   ]
  },
  {
   "cell_type": "markdown",
   "metadata": {},
   "source": [
    "###### Calculate probabilities"
   ]
  },
  {
   "cell_type": "markdown",
   "metadata": {},
   "source": [
    "###### 3m30y"
   ]
  },
  {
   "cell_type": "code",
   "execution_count": 15,
   "metadata": {},
   "outputs": [
    {
     "name": "stdout",
     "output_type": "stream",
     "text": [
      "Optimization terminated successfully.\n",
      "         Current function value: 0.308851\n",
      "         Iterations 6\n"
     ]
    },
    {
     "data": {
      "text/plain": [
       "<AxesSubplot:xlabel='Date'>"
      ]
     },
     "execution_count": 15,
     "metadata": {},
     "output_type": "execute_result"
    },
    {
     "data": {
      "image/png": "[encoded data removed]",
      "text/plain": [
       "<Figure size 432x288 with 1 Axes>"
      ]
     },
     "metadata": {
      "needs_background": "light"
     },
     "output_type": "display_data"
    }
   ],
   "source": [
    "freq = 'Q'\n",
    "\n",
    "fd= df.copy()\n",
    "s1 = fd[fd.columns[4]]\n",
    "s2 = fd[fd.columns[0]]\n",
    "X = s1.sub(s2).fillna(method='ffill').dropna().resample(freq).last()\n",
    "\n",
    "X.loc[X>0] = 1\n",
    "X.loc[X<0] = 0\n",
    "X.loc['2019-01-01':].head()\n",
    "\n",
    "y = fd[rec1].loc[X.index[0]:].resample(freq).last().fillna(method='ffill')\n",
    "\n",
    "r1 = -24\n",
    "r2 = 100\n",
    "def createList(r1, r2):\n",
    "    return list(range(r1, r2+1))\n",
    "obs = createList(r1, r2)\n",
    "\n",
    "corr = pd.DataFrame(columns=['Correlation'])\n",
    "X11 = pd.DataFrame()\n",
    "for i in obs:\n",
    "    try:\n",
    "        X11 = y.shift(i).corr(X)\n",
    "    except:\n",
    "        pass\n",
    "    corr = corr.append({'Correlation': X11}, ignore_index=True)\n",
    "#corr = abs(corr)\n",
    "\n",
    "corr.index=range(r1,r2+1)\n",
    "#lag = corr.index.max()\n",
    "#lag = 0\n",
    "\n",
    "X = X.shift(lag).dropna()\n",
    "X = sm.add_constant(X)\n",
    "\n",
    "y = y.loc[X.dropna().index[0]:]\n",
    "\n",
    "prob_a = sm.Probit(y,X).fit()\n",
    "prob_a.summary()\n",
    "\n",
    "pred = s1.sub(s2).fillna(method='ffill').dropna().resample(freq).last()\n",
    "mu = 0\n",
    "sigma = 1\n",
    "\n",
    "dx = prob_a.params['const']+prob_a.params[0]*pred\n",
    "dx = dx.loc[X.dropna().index[0]:]\n",
    "\n",
    "#X['rec'] = df['USRECD']\n",
    "\n",
    "X['model'] = norm.cdf(dx,loc=mu,scale=sigma)\n",
    "#X[['rec','model']].plot()\n",
    "\n",
    "dxa = dx.shift(lag,freq='infer')\n",
    "dxb = norm.cdf(dxa,loc=mu,scale=sigma)\n",
    "dxc = pd.date_range(dxa.index[0],dxa.index[-1],freq=freq)\n",
    "dxd = pd.DataFrame()\n",
    "dxd['Date'] = dxc\n",
    "dxd['3m30y'] = dxb\n",
    "y_a = dxd.set_index('Date')\n",
    "y_a.loc[:].plot()"
   ]
  },
  {
   "cell_type": "markdown",
   "metadata": {},
   "source": [
    "##### 2y30y"
   ]
  },
  {
   "cell_type": "code",
   "execution_count": 16,
   "metadata": {},
   "outputs": [
    {
     "name": "stdout",
     "output_type": "stream",
     "text": [
      "Optimization terminated successfully.\n",
      "         Current function value: 0.317032\n",
      "         Iterations 6\n"
     ]
    },
    {
     "data": {
      "text/plain": [
       "<AxesSubplot:xlabel='Date'>"
      ]
     },
     "execution_count": 16,
     "metadata": {},
     "output_type": "execute_result"
    },
    {
     "data": {
      "image/png": "[encoded data removed]",
      "text/plain": [
       "<Figure size 432x288 with 1 Axes>"
      ]
     },
     "metadata": {
      "needs_background": "light"
     },
     "output_type": "display_data"
    }
   ],
   "source": [
    "freq = 'Q'\n",
    "\n",
    "fd = df.copy()\n",
    "s1 = fd[fd.columns[4]]\n",
    "s2 = fd[fd.columns[1]]\n",
    "X = s1.sub(s2).fillna(method='ffill').dropna().resample(freq).last()\n",
    "\n",
    "X.loc[X>0] = 1\n",
    "X.loc[X<0] = 0\n",
    "\n",
    "y = fd[rec1].loc[X.index[0]:].resample(freq).last().fillna(method='ffill')\n",
    "\n",
    "r1 = -24\n",
    "r2 = 100\n",
    "def createList(r1, r2):\n",
    "    return list(range(r1, r2+1))\n",
    "obs = createList(r1, r2)\n",
    "\n",
    "corr = pd.DataFrame(columns=['Correlation'])\n",
    "X11 = pd.DataFrame()\n",
    "for i in obs:\n",
    "    try:\n",
    "        X11 = y.shift(i).corr(X)\n",
    "    except:\n",
    "        pass\n",
    "    corr = corr.append({'Correlation': X11}, ignore_index=True)\n",
    "#corr = abs(corr)\n",
    "\n",
    "corr.index=range(r1,r2+1)\n",
    "#lag = corr.index.max()\n",
    "#lag = 0\n",
    "\n",
    "X = X.shift(lag).dropna()\n",
    "X = sm.add_constant(X)\n",
    "\n",
    "y = y.loc[X.dropna().index[0]:]\n",
    "\n",
    "prob_b = sm.Probit(y,X).fit()\n",
    "prob_b.summary()\n",
    "\n",
    "pred = s1.sub(s2).fillna(method='ffill').dropna().resample(freq).last()\n",
    "mu = 0\n",
    "sigma = 1\n",
    "\n",
    "dx = prob_b.params['const']+prob_b.params[0]*pred\n",
    "dx = dx.loc[X.dropna().index[0]:]\n",
    "\n",
    "#X['rec'] = df['USRECD']\n",
    "\n",
    "X['model'] = norm.cdf(dx,loc=mu,scale=sigma)\n",
    "#X[['rec','model']].plot()\n",
    "\n",
    "dxa = dx.shift(lag,freq='infer')\n",
    "dxb = norm.cdf(dxa,loc=mu,scale=sigma)\n",
    "dxc = pd.date_range(dxa.index[0],dxa.index[-1],freq=freq)\n",
    "dxd = pd.DataFrame()\n",
    "dxd['Date'] = dxc\n",
    "dxd['2y30y'] = dxb\n",
    "y_b = dxd.set_index('Date')\n",
    "y_b.loc[:].plot()"
   ]
  },
  {
   "cell_type": "markdown",
   "metadata": {},
   "source": [
    "##### 3m10y"
   ]
  },
  {
   "cell_type": "code",
   "execution_count": 17,
   "metadata": {},
   "outputs": [
    {
     "name": "stdout",
     "output_type": "stream",
     "text": [
      "Warning: Maximum number of iterations has been exceeded.\n",
      "         Current function value: 0.300547\n",
      "         Iterations: 35\n"
     ]
    },
    {
     "name": "stderr",
     "output_type": "stream",
     "text": [
      "C:\\ProgramData\\Anaconda3\\lib\\site-packages\\statsmodels\\base\\model.py:566: ConvergenceWarning: Maximum Likelihood optimization failed to converge. Check mle_retvals\n",
      "  warnings.warn(\"Maximum Likelihood optimization failed to \"\n"
     ]
    },
    {
     "data": {
      "text/plain": [
       "<AxesSubplot:xlabel='Date'>"
      ]
     },
     "execution_count": 17,
     "metadata": {},
     "output_type": "execute_result"
    },
    {
     "data": {
      "image/png": "[encoded data removed]",
      "text/plain": [
       "<Figure size 432x288 with 1 Axes>"
      ]
     },
     "metadata": {
      "needs_background": "light"
     },
     "output_type": "display_data"
    }
   ],
   "source": [
    "freq = 'Q'\n",
    "\n",
    "fd= df.copy()\n",
    "s1 = fd[fd.columns[3]]\n",
    "s2 = fd[fd.columns[0]]\n",
    "X = s1.sub(s2).fillna(method='ffill').dropna().resample(freq).last()\n",
    "\n",
    "X.loc[X>0] = 1\n",
    "X.loc[X<0] = 0\n",
    "X.loc['2019-01-01':].head()\n",
    "\n",
    "y = fd[rec1].loc[X.index[0]:].resample(freq).last().fillna(method='ffill')\n",
    "\n",
    "r1 = -24\n",
    "r2 = 100\n",
    "def createList(r1, r2):\n",
    "    return list(range(r1, r2+1))\n",
    "obs = createList(r1, r2)\n",
    "\n",
    "corr = pd.DataFrame(columns=['Correlation'])\n",
    "X11 = pd.DataFrame()\n",
    "for i in obs:\n",
    "    try:\n",
    "        X11 = y.shift(i).corr(X)\n",
    "    except:\n",
    "        pass\n",
    "    corr = corr.append({'Correlation': X11}, ignore_index=True)\n",
    "#corr = abs(corr)\n",
    "\n",
    "corr.index=range(r1,r2+1)\n",
    "#lag = corr.index.max()\n",
    "#lag = 0\n",
    "\n",
    "X = X.shift(lag).dropna()\n",
    "X = sm.add_constant(X)\n",
    "\n",
    "y = y.loc[X.dropna().index[0]:]\n",
    "y = y.to_frame()\n",
    "\n",
    "prob_c = sm.Probit(y,X).fit()\n",
    "prob_c.summary()\n",
    "\n",
    "pred = s1.sub(s2).fillna(method='ffill').dropna().resample(freq).last()\n",
    "mu = 0\n",
    "sigma = 1\n",
    "\n",
    "dx = prob_c.params['const']+prob_c.params[0]*pred\n",
    "dx = dx.loc[X.dropna().index[0]:]\n",
    "\n",
    "#X['rec'] = df['USRECD']\n",
    "\n",
    "X['model'] = norm.cdf(dx,loc=mu,scale=sigma)\n",
    "#X[['rec','model']].plot()\n",
    "\n",
    "dxa = dx.shift(lag,freq='infer')\n",
    "dxb = norm.cdf(dxa,loc=mu,scale=sigma)\n",
    "dxc = pd.date_range(dxa.index[0],dxa.index[-1],freq=freq)\n",
    "dxd = pd.DataFrame()\n",
    "dxd['Date'] = dxc\n",
    "dxd['3m10y'] = dxb\n",
    "y_c = dxd.set_index('Date')\n",
    "y_c.loc[:].plot()"
   ]
  },
  {
   "cell_type": "markdown",
   "metadata": {},
   "source": [
    "##### 2y10y"
   ]
  },
  {
   "cell_type": "code",
   "execution_count": 18,
   "metadata": {},
   "outputs": [
    {
     "name": "stdout",
     "output_type": "stream",
     "text": [
      "Optimization terminated successfully.\n",
      "         Current function value: 0.314697\n",
      "         Iterations 6\n"
     ]
    },
    {
     "data": {
      "text/plain": [
       "<AxesSubplot:xlabel='Date'>"
      ]
     },
     "execution_count": 18,
     "metadata": {},
     "output_type": "execute_result"
    },
    {
     "data": {
      "image/png": "[encoded data removed]",
      "text/plain": [
       "<Figure size 432x288 with 1 Axes>"
      ]
     },
     "metadata": {
      "needs_background": "light"
     },
     "output_type": "display_data"
    }
   ],
   "source": [
    "freq = 'Q'\n",
    "\n",
    "fd = df.copy()\n",
    "s1 = fd[fd.columns[3]]\n",
    "s2 = fd[fd.columns[1]]\n",
    "X = s1.sub(s2).fillna(method='ffill').dropna().resample(freq).last()\n",
    "\n",
    "X.loc[X>0] = 1\n",
    "X.loc[X<0] = 0\n",
    "X.loc['2019-01-01':].head()\n",
    "\n",
    "y = fd[rec1].loc[X.index[0]:].resample(freq).last().fillna(method='ffill')\n",
    "\n",
    "r1 = -24\n",
    "r2 = 100\n",
    "def createList(r1, r2):\n",
    "    return list(range(r1, r2+1))\n",
    "obs = createList(r1, r2)\n",
    "\n",
    "corr = pd.DataFrame(columns=['Correlation'])\n",
    "X11 = pd.DataFrame()\n",
    "for i in obs:\n",
    "    try:\n",
    "        X11 = y.shift(i).corr(X)\n",
    "    except:\n",
    "        pass\n",
    "    corr = corr.append({'Correlation': X11}, ignore_index=True)\n",
    "#corr = abs(corr)\n",
    "\n",
    "corr.index=range(r1,r2+1)\n",
    "#lag = corr.index.max()\n",
    "#lag = 0\n",
    "\n",
    "X = X.shift(lag).dropna()\n",
    "X = sm.add_constant(X)\n",
    "\n",
    "y = y.loc[X.dropna().index[0]:]\n",
    "\n",
    "prob_d = sm.Probit(y,X).fit()\n",
    "prob_d.summary()\n",
    "\n",
    "pred = s1.sub(s2).fillna(method='ffill').dropna().resample(freq).last()\n",
    "mu = 0\n",
    "sigma = 1\n",
    "\n",
    "dx = prob_d.params['const']+prob_d.params[0]*pred\n",
    "dx = dx.loc[X.dropna().index[0]:]\n",
    "\n",
    "#X['rec'] = df['USRECD']\n",
    "\n",
    "X['model'] = norm.cdf(dx,loc=mu,scale=sigma)\n",
    "#X[['rec','model']].plot()\n",
    "\n",
    "dxa = dx.shift(lag,freq='infer')\n",
    "dxb = norm.cdf(dxa,loc=mu,scale=sigma)\n",
    "dxc = pd.date_range(dxa.index[0],dxa.index[-1],freq=freq)\n",
    "dxd = pd.DataFrame()\n",
    "dxd['Date'] = dxc\n",
    "dxd['2y10y'] = dxb\n",
    "y_d = dxd.set_index('Date')\n",
    "y_d.loc[:].plot()"
   ]
  },
  {
   "cell_type": "markdown",
   "metadata": {},
   "source": [
    "##### 3m5y"
   ]
  },
  {
   "cell_type": "code",
   "execution_count": 19,
   "metadata": {},
   "outputs": [
    {
     "name": "stdout",
     "output_type": "stream",
     "text": [
      "Optimization terminated successfully.\n",
      "         Current function value: 0.296418\n",
      "         Iterations 6\n"
     ]
    },
    {
     "data": {
      "text/plain": [
       "<AxesSubplot:xlabel='Date'>"
      ]
     },
     "execution_count": 19,
     "metadata": {},
     "output_type": "execute_result"
    },
    {
     "data": {
      "image/png": "[encoded data removed]",
      "text/plain": [
       "<Figure size 432x288 with 1 Axes>"
      ]
     },
     "metadata": {
      "needs_background": "light"
     },
     "output_type": "display_data"
    }
   ],
   "source": [
    "freq = 'Q'\n",
    "\n",
    "fd= df.copy()\n",
    "s1 = fd[fd.columns[2]]\n",
    "s2 = fd[fd.columns[0]]\n",
    "X = s1.sub(s2).fillna(method='ffill').dropna().resample(freq).last()\n",
    "\n",
    "X.loc[X>0] = 1\n",
    "X.loc[X<0] = 0\n",
    "X.loc['2019-01-01':].head()\n",
    "\n",
    "y = fd[rec1].loc[X.index[0]:].resample(freq).last().fillna(method='ffill').fillna(method='bfill')\n",
    "\n",
    "r1 = -24\n",
    "r2 = 100\n",
    "def createList(r1, r2):\n",
    "    return list(range(r1, r2+1))\n",
    "obs = createList(r1, r2)\n",
    "\n",
    "corr = pd.DataFrame(columns=['Correlation'])\n",
    "X11 = pd.DataFrame()\n",
    "for i in obs:\n",
    "    try:\n",
    "        X11 = y.shift(i).corr(X)\n",
    "    except:\n",
    "        pass\n",
    "    corr = corr.append({'Correlation': X11}, ignore_index=True)\n",
    "#corr = abs(corr)\n",
    "\n",
    "corr.index=range(r1,r2+1)\n",
    "#lag = corr.index.max()\n",
    "#lag = 0\n",
    "\n",
    "X = X.shift(2).dropna()\n",
    "X = sm.add_constant(X)\n",
    "\n",
    "y = y.loc[X.dropna().index[0]:]\n",
    "\n",
    "prob_e = sm.Probit(y,X).fit()\n",
    "prob_e.summary()\n",
    "\n",
    "pred = s1.sub(s2).fillna(method='ffill').dropna().resample(freq).last()\n",
    "mu = 0\n",
    "sigma = 1\n",
    "\n",
    "dx = prob_e.params['const']+prob_e.params[0]*pred\n",
    "dx = dx.loc[X.dropna().index[0]:]\n",
    "\n",
    "#X['rec'] = df['USRECD']\n",
    "\n",
    "X['model'] = norm.cdf(dx,loc=mu,scale=sigma)\n",
    "#X[['rec','model']].plot()\n",
    "\n",
    "dxa = dx.shift(lag,freq='infer')\n",
    "dxb = norm.cdf(dxa,loc=mu,scale=sigma)\n",
    "dxc = pd.date_range(dxa.index[0],dxa.index[-1],freq=freq)\n",
    "dxd = pd.DataFrame()\n",
    "dxd['Date'] = dxc\n",
    "dxd['3m5y'] = dxb\n",
    "y_e = dxd.set_index('Date')\n",
    "y_e.loc[:].plot()"
   ]
  },
  {
   "cell_type": "markdown",
   "metadata": {},
   "source": [
    "##### 2y5y"
   ]
  },
  {
   "cell_type": "code",
   "execution_count": 20,
   "metadata": {},
   "outputs": [
    {
     "name": "stdout",
     "output_type": "stream",
     "text": [
      "Optimization terminated successfully.\n",
      "         Current function value: 0.318458\n",
      "         Iterations 6\n"
     ]
    },
    {
     "data": {
      "text/plain": [
       "<AxesSubplot:xlabel='Date'>"
      ]
     },
     "execution_count": 20,
     "metadata": {},
     "output_type": "execute_result"
    },
    {
     "data": {
      "image/png": "[encoded data removed]",
      "text/plain": [
       "<Figure size 432x288 with 1 Axes>"
      ]
     },
     "metadata": {
      "needs_background": "light"
     },
     "output_type": "display_data"
    }
   ],
   "source": [
    "freq = 'Q'\n",
    "\n",
    "fd = df.copy()\n",
    "s1 = fd[fd.columns[2]]\n",
    "s2 = fd[fd.columns[1]]\n",
    "X = s1.sub(s2).fillna(method='ffill').dropna().resample(freq).last()\n",
    "\n",
    "X.loc[X>0] = 1\n",
    "X.loc[X<0] = 0\n",
    "X.loc['2019-01-01':].head()\n",
    "\n",
    "y = fd[rec1].loc[X.index[0]:].resample(freq).last().fillna(method='ffill').fillna(method='bfill')\n",
    "\n",
    "r1 = -24\n",
    "r2 = 100\n",
    "def createList(r1, r2):\n",
    "    return list(range(r1, r2+1))\n",
    "obs = createList(r1, r2)\n",
    "\n",
    "corr = pd.DataFrame(columns=['Correlation'])\n",
    "X11 = pd.DataFrame()\n",
    "for i in obs:\n",
    "    try:\n",
    "        X11 = y.shift(i).corr(X)\n",
    "    except:\n",
    "        pass\n",
    "    corr = corr.append({'Correlation': X11}, ignore_index=True)\n",
    "#corr = abs(corr)\n",
    "\n",
    "corr.index=range(r1,r2+1)\n",
    "#lag = corr.index.max()\n",
    "#lag = 0\n",
    "\n",
    "X = X.shift(lag).dropna()\n",
    "X = sm.add_constant(X)\n",
    "\n",
    "y = y.loc[X.dropna().index[0]:]\n",
    "\n",
    "prob_f = sm.Probit(y,X).fit()\n",
    "prob_f.summary()\n",
    "\n",
    "pred = s1.sub(s2).fillna(method='ffill').dropna().resample(freq).last()\n",
    "mu = 0\n",
    "sigma = 1\n",
    "\n",
    "dx = prob_f.params['const']+prob_f.params[0]*pred\n",
    "dx = dx.loc[X.dropna().index[0]:]\n",
    "\n",
    "#X['rec'] = df['USRECD']\n",
    "\n",
    "X['model'] = norm.cdf(dx,loc=mu,scale=sigma)\n",
    "#X[['rec','model']].plot()\n",
    "\n",
    "dxa = dx.shift(lag,freq='infer')\n",
    "dxb = norm.cdf(dxa,loc=mu,scale=sigma)\n",
    "dxc = pd.date_range(dxa.index[0],dxa.index[-1],freq=freq)\n",
    "dxd = pd.DataFrame()\n",
    "dxd['Date'] = dxc\n",
    "dxd['2y5y'] = dxb\n",
    "y_f = dxd.set_index('Date')\n",
    "y_f.loc[:].plot()"
   ]
  },
  {
   "cell_type": "markdown",
   "metadata": {},
   "source": [
    "##### 3m3x18"
   ]
  },
  {
   "cell_type": "code",
   "execution_count": 21,
   "metadata": {},
   "outputs": [
    {
     "name": "stdout",
     "output_type": "stream",
     "text": [
      "Optimization terminated successfully.\n",
      "         Current function value: 0.306495\n",
      "         Iterations 6\n"
     ]
    },
    {
     "data": {
      "text/plain": [
       "<AxesSubplot:xlabel='Date'>"
      ]
     },
     "execution_count": 21,
     "metadata": {},
     "output_type": "execute_result"
    },
    {
     "data": {
      "image/png": "[encoded data removed]",
      "text/plain": [
       "<Figure size 432x288 with 1 Axes>"
      ]
     },
     "metadata": {
      "needs_background": "light"
     },
     "output_type": "display_data"
    }
   ],
   "source": [
    "freq = 'Q'\n",
    "\n",
    "fd = df.copy()\n",
    "s1 = fd[fd.columns[-1]]\n",
    "s2 = fd[fd.columns[0]]\n",
    "X = s1.sub(s2).fillna(method='ffill').dropna().resample(freq).last()\n",
    "\n",
    "X.loc[X>0] = 1\n",
    "X.loc[X<0] = 0\n",
    "X.loc['2019-01-01':].head()\n",
    "\n",
    "y = fd[rec1].loc[X.index[0]:].resample(freq).last().fillna(method='ffill').fillna(method='bfill')\n",
    "\n",
    "r1 = -24\n",
    "r2 = 100\n",
    "def createList(r1, r2):\n",
    "    return list(range(r1, r2+1))\n",
    "obs = createList(r1, r2)\n",
    "\n",
    "corr = pd.DataFrame(columns=['Correlation'])\n",
    "X11 = pd.DataFrame()\n",
    "for i in obs:\n",
    "    try:\n",
    "        X11 = y.shift(i).corr(X)\n",
    "    except:\n",
    "        pass\n",
    "    corr = corr.append({'Correlation': X11}, ignore_index=True)\n",
    "#corr = abs(corr)\n",
    "\n",
    "corr.index=range(r1,r2+1)\n",
    "#lag = corr.index.max()\n",
    "#lag = 0\n",
    "\n",
    "X = X.shift(lag).dropna()\n",
    "X = sm.add_constant(X)\n",
    "\n",
    "y = y.loc[X.dropna().index[0]:]\n",
    "\n",
    "prob_g = sm.Probit(y,X).fit()\n",
    "prob_g.summary()\n",
    "\n",
    "pred = s1.sub(s2).fillna(method='ffill').dropna().resample(freq).last()\n",
    "mu = 0\n",
    "sigma = 1\n",
    "\n",
    "dx = prob_g.params['const']+prob_g.params[0]*pred\n",
    "dx = dx.loc[X.dropna().index[0]:]\n",
    "\n",
    "#X['rec'] = df['USRECD']\n",
    "\n",
    "X['model'] = norm.cdf(dx,loc=mu,scale=sigma)\n",
    "#X[['rec','model']].plot()\n",
    "\n",
    "dxa = dx.shift(lag,freq='infer')\n",
    "dxb = norm.cdf(dxa,loc=mu,scale=sigma)\n",
    "dxc = pd.date_range(dxa.index[0],dxa.index[-1],freq=freq)\n",
    "dxd = pd.DataFrame()\n",
    "dxd['Date'] = dxc\n",
    "dxd['3m3x18'] = dxb\n",
    "y_g = dxd.set_index('Date')\n",
    "y_g.loc[:].plot()"
   ]
  },
  {
   "cell_type": "markdown",
   "metadata": {},
   "source": [
    "###### Add all probabilities into one frame"
   ]
  },
  {
   "cell_type": "code",
   "execution_count": 22,
   "metadata": {},
   "outputs": [],
   "source": [
    "y_g['3m30y'] = y_a['3m30y']\n",
    "y_g['2y30y'] = y_b\n",
    "y_g['3m10y'] = y_c\n",
    "y_g['2y10y'] = y_d\n",
    "y_g['3m5y'] = y_e\n",
    "y_g['2y5y'] = y_f"
   ]
  },
  {
   "cell_type": "code",
   "execution_count": 23,
   "metadata": {},
   "outputs": [
    {
     "data": {
      "text/html": [
       "<div>\n",
       "<style scoped>\n",
       "    .dataframe tbody tr th:only-of-type {\n",
       "        vertical-align: middle;\n",
       "    }\n",
       "\n",
       "    .dataframe tbody tr th {\n",
       "        vertical-align: top;\n",
       "    }\n",
       "\n",
       "    .dataframe thead th {\n",
       "        text-align: right;\n",
       "    }\n",
       "</style>\n",
       "<table border=\"1\" class=\"dataframe\">\n",
       "  <thead>\n",
       "    <tr style=\"text-align: right;\">\n",
       "      <th></th>\n",
       "      <th>3m3x18</th>\n",
       "      <th>3m30y</th>\n",
       "      <th>2y30y</th>\n",
       "      <th>3m10y</th>\n",
       "      <th>2y10y</th>\n",
       "      <th>3m5y</th>\n",
       "      <th>2y5y</th>\n",
       "    </tr>\n",
       "    <tr>\n",
       "      <th>Date</th>\n",
       "      <th></th>\n",
       "      <th></th>\n",
       "      <th></th>\n",
       "      <th></th>\n",
       "      <th></th>\n",
       "      <th></th>\n",
       "      <th></th>\n",
       "    </tr>\n",
       "  </thead>\n",
       "  <tbody>\n",
       "    <tr>\n",
       "      <th>1982-03-31</th>\n",
       "      <td>0.040602</td>\n",
       "      <td>0.147295</td>\n",
       "      <td>0.190661</td>\n",
       "      <td>9.999976e-01</td>\n",
       "      <td>0.140217</td>\n",
       "      <td>NaN</td>\n",
       "      <td>0.123047</td>\n",
       "    </tr>\n",
       "    <tr>\n",
       "      <th>1982-06-30</th>\n",
       "      <td>0.160683</td>\n",
       "      <td>0.054189</td>\n",
       "      <td>0.336872</td>\n",
       "      <td>2.576519e-06</td>\n",
       "      <td>0.228907</td>\n",
       "      <td>0.107117</td>\n",
       "      <td>0.155984</td>\n",
       "    </tr>\n",
       "    <tr>\n",
       "      <th>1982-09-30</th>\n",
       "      <td>0.089477</td>\n",
       "      <td>0.079649</td>\n",
       "      <td>0.319688</td>\n",
       "      <td>1.720678e-01</td>\n",
       "      <td>0.211554</td>\n",
       "      <td>0.074096</td>\n",
       "      <td>0.147069</td>\n",
       "    </tr>\n",
       "    <tr>\n",
       "      <th>1982-12-31</th>\n",
       "      <td>0.008904</td>\n",
       "      <td>0.263204</td>\n",
       "      <td>0.122859</td>\n",
       "      <td>1.000000e+00</td>\n",
       "      <td>0.124540</td>\n",
       "      <td>0.021516</td>\n",
       "      <td>0.115482</td>\n",
       "    </tr>\n",
       "    <tr>\n",
       "      <th>1983-03-31</th>\n",
       "      <td>0.044026</td>\n",
       "      <td>0.153753</td>\n",
       "      <td>0.085828</td>\n",
       "      <td>9.997066e-01</td>\n",
       "      <td>0.090428</td>\n",
       "      <td>0.056661</td>\n",
       "      <td>0.106499</td>\n",
       "    </tr>\n",
       "    <tr>\n",
       "      <th>...</th>\n",
       "      <td>...</td>\n",
       "      <td>...</td>\n",
       "      <td>...</td>\n",
       "      <td>...</td>\n",
       "      <td>...</td>\n",
       "      <td>...</td>\n",
       "      <td>...</td>\n",
       "    </tr>\n",
       "    <tr>\n",
       "      <th>2023-12-31</th>\n",
       "      <td>0.183730</td>\n",
       "      <td>0.042444</td>\n",
       "      <td>0.239980</td>\n",
       "      <td>1.401891e-20</td>\n",
       "      <td>0.243958</td>\n",
       "      <td>0.175498</td>\n",
       "      <td>0.179800</td>\n",
       "    </tr>\n",
       "    <tr>\n",
       "      <th>2024-03-31</th>\n",
       "      <td>0.274922</td>\n",
       "      <td>0.032180</td>\n",
       "      <td>0.223864</td>\n",
       "      <td>6.657087e-31</td>\n",
       "      <td>0.230388</td>\n",
       "      <td>0.213924</td>\n",
       "      <td>0.176499</td>\n",
       "    </tr>\n",
       "    <tr>\n",
       "      <th>2024-06-30</th>\n",
       "      <td>0.225014</td>\n",
       "      <td>0.036559</td>\n",
       "      <td>0.231844</td>\n",
       "      <td>7.814157e-26</td>\n",
       "      <td>0.236367</td>\n",
       "      <td>0.193817</td>\n",
       "      <td>0.175680</td>\n",
       "    </tr>\n",
       "    <tr>\n",
       "      <th>2024-09-30</th>\n",
       "      <td>0.224265</td>\n",
       "      <td>0.039412</td>\n",
       "      <td>0.223864</td>\n",
       "      <td>2.654759e-23</td>\n",
       "      <td>0.230388</td>\n",
       "      <td>0.187585</td>\n",
       "      <td>0.175680</td>\n",
       "    </tr>\n",
       "    <tr>\n",
       "      <th>2024-12-31</th>\n",
       "      <td>0.290891</td>\n",
       "      <td>0.033531</td>\n",
       "      <td>0.169858</td>\n",
       "      <td>6.213451e-32</td>\n",
       "      <td>0.196345</td>\n",
       "      <td>0.225447</td>\n",
       "      <td>0.166827</td>\n",
       "    </tr>\n",
       "  </tbody>\n",
       "</table>\n",
       "<p>172 rows × 7 columns</p>\n",
       "</div>"
      ],
      "text/plain": [
       "              3m3x18     3m30y     2y30y         3m10y     2y10y      3m5y  \\\n",
       "Date                                                                         \n",
       "1982-03-31  0.040602  0.147295  0.190661  9.999976e-01  0.140217       NaN   \n",
       "1982-06-30  0.160683  0.054189  0.336872  2.576519e-06  0.228907  0.107117   \n",
       "1982-09-30  0.089477  0.079649  0.319688  1.720678e-01  0.211554  0.074096   \n",
       "1982-12-31  0.008904  0.263204  0.122859  1.000000e+00  0.124540  0.021516   \n",
       "1983-03-31  0.044026  0.153753  0.085828  9.997066e-01  0.090428  0.056661   \n",
       "...              ...       ...       ...           ...       ...       ...   \n",
       "2023-12-31  0.183730  0.042444  0.239980  1.401891e-20  0.243958  0.175498   \n",
       "2024-03-31  0.274922  0.032180  0.223864  6.657087e-31  0.230388  0.213924   \n",
       "2024-06-30  0.225014  0.036559  0.231844  7.814157e-26  0.236367  0.193817   \n",
       "2024-09-30  0.224265  0.039412  0.223864  2.654759e-23  0.230388  0.187585   \n",
       "2024-12-31  0.290891  0.033531  0.169858  6.213451e-32  0.196345  0.225447   \n",
       "\n",
       "                2y5y  \n",
       "Date                  \n",
       "1982-03-31  0.123047  \n",
       "1982-06-30  0.155984  \n",
       "1982-09-30  0.147069  \n",
       "1982-12-31  0.115482  \n",
       "1983-03-31  0.106499  \n",
       "...              ...  \n",
       "2023-12-31  0.179800  \n",
       "2024-03-31  0.176499  \n",
       "2024-06-30  0.175680  \n",
       "2024-09-30  0.175680  \n",
       "2024-12-31  0.166827  \n",
       "\n",
       "[172 rows x 7 columns]"
      ]
     },
     "execution_count": 23,
     "metadata": {},
     "output_type": "execute_result"
    }
   ],
   "source": [
    "y_g"
   ]
  },
  {
   "cell_type": "code",
   "execution_count": 24,
   "metadata": {},
   "outputs": [
    {
     "data": {
      "text/plain": [
       "<AxesSubplot:xlabel='Date'>"
      ]
     },
     "execution_count": 24,
     "metadata": {},
     "output_type": "execute_result"
    },
    {
     "data": {
      "image/png": "[encoded data removed]",
      "text/plain": [
       "<Figure size 432x288 with 1 Axes>"
      ]
     },
     "metadata": {
      "needs_background": "light"
     },
     "output_type": "display_data"
    }
   ],
   "source": [
    "y_g['Recession'] = y.resample('Q').last()\n",
    "y_g.plot()"
   ]
  },
  {
   "cell_type": "code",
   "execution_count": 25,
   "metadata": {},
   "outputs": [
    {
     "data": {
      "text/html": [
       "<div>\n",
       "<style scoped>\n",
       "    .dataframe tbody tr th:only-of-type {\n",
       "        vertical-align: middle;\n",
       "    }\n",
       "\n",
       "    .dataframe tbody tr th {\n",
       "        vertical-align: top;\n",
       "    }\n",
       "\n",
       "    .dataframe thead th {\n",
       "        text-align: right;\n",
       "    }\n",
       "</style>\n",
       "<table border=\"1\" class=\"dataframe\">\n",
       "  <thead>\n",
       "    <tr style=\"text-align: right;\">\n",
       "      <th></th>\n",
       "      <th>3m3x18</th>\n",
       "      <th>3m30y</th>\n",
       "      <th>2y30y</th>\n",
       "      <th>3m10y</th>\n",
       "      <th>2y10y</th>\n",
       "      <th>2y5y</th>\n",
       "    </tr>\n",
       "    <tr>\n",
       "      <th>Date</th>\n",
       "      <th></th>\n",
       "      <th></th>\n",
       "      <th></th>\n",
       "      <th></th>\n",
       "      <th></th>\n",
       "      <th></th>\n",
       "    </tr>\n",
       "  </thead>\n",
       "  <tbody>\n",
       "    <tr>\n",
       "      <th>1982-03-31</th>\n",
       "      <td>0.040602</td>\n",
       "      <td>0.147295</td>\n",
       "      <td>0.190661</td>\n",
       "      <td>9.999976e-01</td>\n",
       "      <td>0.140217</td>\n",
       "      <td>0.123047</td>\n",
       "    </tr>\n",
       "    <tr>\n",
       "      <th>1982-06-30</th>\n",
       "      <td>0.160683</td>\n",
       "      <td>0.054189</td>\n",
       "      <td>0.336872</td>\n",
       "      <td>2.576519e-06</td>\n",
       "      <td>0.228907</td>\n",
       "      <td>0.155984</td>\n",
       "    </tr>\n",
       "    <tr>\n",
       "      <th>1982-09-30</th>\n",
       "      <td>0.089477</td>\n",
       "      <td>0.079649</td>\n",
       "      <td>0.319688</td>\n",
       "      <td>1.720678e-01</td>\n",
       "      <td>0.211554</td>\n",
       "      <td>0.147069</td>\n",
       "    </tr>\n",
       "    <tr>\n",
       "      <th>1982-12-31</th>\n",
       "      <td>0.008904</td>\n",
       "      <td>0.263204</td>\n",
       "      <td>0.122859</td>\n",
       "      <td>1.000000e+00</td>\n",
       "      <td>0.124540</td>\n",
       "      <td>0.115482</td>\n",
       "    </tr>\n",
       "    <tr>\n",
       "      <th>1983-03-31</th>\n",
       "      <td>0.044026</td>\n",
       "      <td>0.153753</td>\n",
       "      <td>0.085828</td>\n",
       "      <td>9.997066e-01</td>\n",
       "      <td>0.090428</td>\n",
       "      <td>0.106499</td>\n",
       "    </tr>\n",
       "    <tr>\n",
       "      <th>...</th>\n",
       "      <td>...</td>\n",
       "      <td>...</td>\n",
       "      <td>...</td>\n",
       "      <td>...</td>\n",
       "      <td>...</td>\n",
       "      <td>...</td>\n",
       "    </tr>\n",
       "    <tr>\n",
       "      <th>2023-12-31</th>\n",
       "      <td>0.183730</td>\n",
       "      <td>0.042444</td>\n",
       "      <td>0.239980</td>\n",
       "      <td>1.401891e-20</td>\n",
       "      <td>0.243958</td>\n",
       "      <td>0.179800</td>\n",
       "    </tr>\n",
       "    <tr>\n",
       "      <th>2024-03-31</th>\n",
       "      <td>0.274922</td>\n",
       "      <td>0.032180</td>\n",
       "      <td>0.223864</td>\n",
       "      <td>6.657087e-31</td>\n",
       "      <td>0.230388</td>\n",
       "      <td>0.176499</td>\n",
       "    </tr>\n",
       "    <tr>\n",
       "      <th>2024-06-30</th>\n",
       "      <td>0.225014</td>\n",
       "      <td>0.036559</td>\n",
       "      <td>0.231844</td>\n",
       "      <td>7.814157e-26</td>\n",
       "      <td>0.236367</td>\n",
       "      <td>0.175680</td>\n",
       "    </tr>\n",
       "    <tr>\n",
       "      <th>2024-09-30</th>\n",
       "      <td>0.224265</td>\n",
       "      <td>0.039412</td>\n",
       "      <td>0.223864</td>\n",
       "      <td>2.654759e-23</td>\n",
       "      <td>0.230388</td>\n",
       "      <td>0.175680</td>\n",
       "    </tr>\n",
       "    <tr>\n",
       "      <th>2024-12-31</th>\n",
       "      <td>0.290891</td>\n",
       "      <td>0.033531</td>\n",
       "      <td>0.169858</td>\n",
       "      <td>6.213451e-32</td>\n",
       "      <td>0.196345</td>\n",
       "      <td>0.166827</td>\n",
       "    </tr>\n",
       "  </tbody>\n",
       "</table>\n",
       "<p>172 rows × 6 columns</p>\n",
       "</div>"
      ],
      "text/plain": [
       "              3m3x18     3m30y     2y30y         3m10y     2y10y      2y5y\n",
       "Date                                                                      \n",
       "1982-03-31  0.040602  0.147295  0.190661  9.999976e-01  0.140217  0.123047\n",
       "1982-06-30  0.160683  0.054189  0.336872  2.576519e-06  0.228907  0.155984\n",
       "1982-09-30  0.089477  0.079649  0.319688  1.720678e-01  0.211554  0.147069\n",
       "1982-12-31  0.008904  0.263204  0.122859  1.000000e+00  0.124540  0.115482\n",
       "1983-03-31  0.044026  0.153753  0.085828  9.997066e-01  0.090428  0.106499\n",
       "...              ...       ...       ...           ...       ...       ...\n",
       "2023-12-31  0.183730  0.042444  0.239980  1.401891e-20  0.243958  0.179800\n",
       "2024-03-31  0.274922  0.032180  0.223864  6.657087e-31  0.230388  0.176499\n",
       "2024-06-30  0.225014  0.036559  0.231844  7.814157e-26  0.236367  0.175680\n",
       "2024-09-30  0.224265  0.039412  0.223864  2.654759e-23  0.230388  0.175680\n",
       "2024-12-31  0.290891  0.033531  0.169858  6.213451e-32  0.196345  0.166827\n",
       "\n",
       "[172 rows x 6 columns]"
      ]
     },
     "execution_count": 25,
     "metadata": {},
     "output_type": "execute_result"
    }
   ],
   "source": [
    "y_g[y_g.columns[[0,1,2,3,4,6]]]"
   ]
  },
  {
   "cell_type": "code",
   "execution_count": 26,
   "metadata": {},
   "outputs": [],
   "source": [
    "z_a = y_a.iloc[-1]*prob_a.prsquared\n",
    "z_b = y_b.iloc[-1]*prob_b.prsquared\n",
    "z_c = y_c.iloc[-1]*prob_c.prsquared\n",
    "z_d = y_d.iloc[-1]*prob_d.prsquared\n",
    "z_e = y_e.iloc[-1]*prob_e.prsquared\n",
    "z_f = y_f.iloc[-1]*prob_f.prsquared"
   ]
  },
  {
   "cell_type": "code",
   "execution_count": 27,
   "metadata": {},
   "outputs": [
    {
     "data": {
      "text/plain": [
       "0.010794950646671951"
      ]
     },
     "execution_count": 27,
     "metadata": {},
     "output_type": "execute_result"
    }
   ],
   "source": [
    "z_a[0]+z_b[0]+z_c[0]+z_d[0]+z_e[0]+z_f[0]"
   ]
  },
  {
   "cell_type": "markdown",
   "metadata": {},
   "source": [
    "# Probability and Pseudo R2"
   ]
  },
  {
   "cell_type": "code",
   "execution_count": 28,
   "metadata": {},
   "outputs": [
    {
     "data": {
      "text/html": [
       "<div>\n",
       "<style scoped>\n",
       "    .dataframe tbody tr th:only-of-type {\n",
       "        vertical-align: middle;\n",
       "    }\n",
       "\n",
       "    .dataframe tbody tr th {\n",
       "        vertical-align: top;\n",
       "    }\n",
       "\n",
       "    .dataframe thead th {\n",
       "        text-align: right;\n",
       "    }\n",
       "</style>\n",
       "<table border=\"1\" class=\"dataframe\">\n",
       "  <thead>\n",
       "    <tr style=\"text-align: right;\">\n",
       "      <th></th>\n",
       "      <th>Probability</th>\n",
       "      <th>Pseudo R2</th>\n",
       "    </tr>\n",
       "    <tr>\n",
       "      <th>Spread</th>\n",
       "      <th></th>\n",
       "      <th></th>\n",
       "    </tr>\n",
       "  </thead>\n",
       "  <tbody>\n",
       "    <tr>\n",
       "      <th>3m3x18</th>\n",
       "      <td>2.908911e-01</td>\n",
       "      <td>0.009637</td>\n",
       "    </tr>\n",
       "    <tr>\n",
       "      <th>3m30y</th>\n",
       "      <td>3.353114e-02</td>\n",
       "      <td>0.002025</td>\n",
       "    </tr>\n",
       "    <tr>\n",
       "      <th>2y30y</th>\n",
       "      <td>1.698578e-01</td>\n",
       "      <td>0.024767</td>\n",
       "    </tr>\n",
       "    <tr>\n",
       "      <th>3m10y</th>\n",
       "      <td>6.213451e-32</td>\n",
       "      <td>0.028857</td>\n",
       "    </tr>\n",
       "    <tr>\n",
       "      <th>2y10y</th>\n",
       "      <td>1.963448e-01</td>\n",
       "      <td>0.021630</td>\n",
       "    </tr>\n",
       "    <tr>\n",
       "      <th>3m5y</th>\n",
       "      <td>2.254468e-01</td>\n",
       "      <td>0.002730</td>\n",
       "    </tr>\n",
       "    <tr>\n",
       "      <th>2y5y</th>\n",
       "      <td>1.668273e-01</td>\n",
       "      <td>0.009937</td>\n",
       "    </tr>\n",
       "  </tbody>\n",
       "</table>\n",
       "</div>"
      ],
      "text/plain": [
       "         Probability  Pseudo R2\n",
       "Spread                         \n",
       "3m3x18  2.908911e-01   0.009637\n",
       "3m30y   3.353114e-02   0.002025\n",
       "2y30y   1.698578e-01   0.024767\n",
       "3m10y   6.213451e-32   0.028857\n",
       "2y10y   1.963448e-01   0.021630\n",
       "3m5y    2.254468e-01   0.002730\n",
       "2y5y    1.668273e-01   0.009937"
      ]
     },
     "execution_count": 28,
     "metadata": {},
     "output_type": "execute_result"
    }
   ],
   "source": [
    "recs = pd.DataFrame(y_g.iloc[-1][:-1])\n",
    "recs.columns = ['Probability']\n",
    "\n",
    "rsqrd = pd.DataFrame([prob_g.prsquared,prob_a.prsquared,prob_b.prsquared,prob_c.prsquared,prob_d.prsquared,prob_e.prsquared,prob_f.prsquared])\n",
    "rsqrd.columns = ['Pseudo R2']\n",
    "rsqrd['Spread'] = pd.DataFrame(y_g.columns[:7])\n",
    "rsqrd = rsqrd.set_index('Spread')\n",
    "\n",
    "ctt = pd.concat([recs,rsqrd],axis=1)\n",
    "ctt"
   ]
  },
  {
   "cell_type": "markdown",
   "metadata": {},
   "source": [
    "# SPX"
   ]
  },
  {
   "cell_type": "code",
   "execution_count": 29,
   "metadata": {},
   "outputs": [
    {
     "data": {
      "text/plain": [
       "1950-01-01   NaN\n",
       "1950-01-02   NaN\n",
       "1950-01-03   NaN\n",
       "1950-01-04   NaN\n",
       "1950-01-05   NaN\n",
       "              ..\n",
       "2024-08-01   NaN\n",
       "2024-08-02   NaN\n",
       "2024-08-03   NaN\n",
       "2024-08-04   NaN\n",
       "2024-08-05   NaN\n",
       "Freq: D, Name: SPX, Length: 27246, dtype: float64"
      ]
     },
     "execution_count": 29,
     "metadata": {},
     "output_type": "execute_result"
    }
   ],
   "source": [
    "bt = pd.read_excel(mypath+'Inflation/Data/SPX.xlsx').set_index('Name').iloc[:,-1].resample('D').last().fillna(method='ffill')\n",
    "bt.columns = ['SPX']\n",
    "btx = bt\n",
    "df['SPX'] = btx\n",
    "df['SPX']"
   ]
  },
  {
   "cell_type": "code",
   "execution_count": 30,
   "metadata": {},
   "outputs": [
    {
     "name": "stdout",
     "output_type": "stream",
     "text": [
      "Warning: Maximum number of iterations has been exceeded.\n",
      "         Current function value: 0.349296\n",
      "         Iterations: 35\n"
     ]
    },
    {
     "name": "stderr",
     "output_type": "stream",
     "text": [
      "C:\\ProgramData\\Anaconda3\\lib\\site-packages\\statsmodels\\base\\model.py:566: ConvergenceWarning: Maximum Likelihood optimization failed to converge. Check mle_retvals\n",
      "  warnings.warn(\"Maximum Likelihood optimization failed to \"\n"
     ]
    },
    {
     "data": {
      "text/html": [
       "<div>\n",
       "<style scoped>\n",
       "    .dataframe tbody tr th:only-of-type {\n",
       "        vertical-align: middle;\n",
       "    }\n",
       "\n",
       "    .dataframe tbody tr th {\n",
       "        vertical-align: top;\n",
       "    }\n",
       "\n",
       "    .dataframe thead th {\n",
       "        text-align: right;\n",
       "    }\n",
       "</style>\n",
       "<table border=\"1\" class=\"dataframe\">\n",
       "  <thead>\n",
       "    <tr style=\"text-align: right;\">\n",
       "      <th></th>\n",
       "      <th>SPX</th>\n",
       "    </tr>\n",
       "    <tr>\n",
       "      <th>Date</th>\n",
       "      <th></th>\n",
       "    </tr>\n",
       "  </thead>\n",
       "  <tbody>\n",
       "    <tr>\n",
       "      <th>2023-12-31</th>\n",
       "      <td>0.112033</td>\n",
       "    </tr>\n",
       "    <tr>\n",
       "      <th>2024-03-31</th>\n",
       "      <td>0.112033</td>\n",
       "    </tr>\n",
       "    <tr>\n",
       "      <th>2024-06-30</th>\n",
       "      <td>0.112033</td>\n",
       "    </tr>\n",
       "    <tr>\n",
       "      <th>2024-09-30</th>\n",
       "      <td>0.112033</td>\n",
       "    </tr>\n",
       "    <tr>\n",
       "      <th>2024-12-31</th>\n",
       "      <td>0.112033</td>\n",
       "    </tr>\n",
       "  </tbody>\n",
       "</table>\n",
       "</div>"
      ],
      "text/plain": [
       "                 SPX\n",
       "Date                \n",
       "2023-12-31  0.112033\n",
       "2024-03-31  0.112033\n",
       "2024-06-30  0.112033\n",
       "2024-09-30  0.112033\n",
       "2024-12-31  0.112033"
      ]
     },
     "execution_count": 30,
     "metadata": {},
     "output_type": "execute_result"
    }
   ],
   "source": [
    "freq = 'Q'\n",
    "\n",
    "ols = df\n",
    "s1 = ols['SPX']\n",
    "s1 = s1.fillna(method='ffill').dropna().resample(freq).last().pct_change()\n",
    "X = s1*1\n",
    "\n",
    "X.loc[X>-0.25] = 0\n",
    "X.loc[X<-0.25] = 1\n",
    "X.loc['2019-01-01':].head()\n",
    "y = ols[rec1].loc[X.index[0]:X.index[-1]].resample(freq).last().fillna(method='ffill').fillna(method='bfill')\n",
    "\n",
    "r1 = -24\n",
    "r2 = 100\n",
    "def createList(r1, r2):\n",
    "    return list(range(r1, r2+1))\n",
    "obs = createList(r1, r2)\n",
    "\n",
    "corr = pd.DataFrame(columns=['Correlation'])\n",
    "X11 = pd.DataFrame()\n",
    "for i in obs:\n",
    "    try:\n",
    "        X11 = y.shift(i).corr(X)\n",
    "    except:\n",
    "        pass\n",
    "    corr = corr.append({'Correlation': X11}, ignore_index=True)\n",
    "#corr = abs(corr)\n",
    "\n",
    "corr.index=range(r1,r2+1)\n",
    "#lag = corr.index.max()\n",
    "#lag = 0\n",
    "\n",
    "X = X.shift(lag).dropna()\n",
    "X = sm.add_constant(X)\n",
    "\n",
    "y = y.loc[X.dropna().index[0]:]\n",
    "\n",
    "prob_spx = sm.Probit(y,X).fit()\n",
    "prob_spx.summary()\n",
    "\n",
    "pred = s1\n",
    "mu = 0\n",
    "sigma = 1\n",
    "\n",
    "dx = prob_spx.params['const']+prob_spx.params[0]*pred\n",
    "dx = dx.loc[X.dropna().index[0]:]\n",
    "\n",
    "#X['rec'] = df['USRECD']\n",
    "\n",
    "X['model'] = norm.cdf(dx,loc=mu,scale=sigma)\n",
    "#X[['rec','model']].plot()\n",
    "\n",
    "dxa = dx.shift(lag,freq='infer')\n",
    "dxb = norm.cdf(dxa,loc=mu,scale=sigma)\n",
    "dxc = pd.date_range(dxa.index[0],dxa.index[-1],freq=freq)\n",
    "dxd = pd.DataFrame()\n",
    "dxd['Date'] = dxc\n",
    "dxd['SPX'] = dxb\n",
    "y_spx = dxd.set_index('Date')\n",
    "y_spx.loc[:].tail()"
   ]
  },
  {
   "cell_type": "markdown",
   "metadata": {},
   "source": [
    "### Get statistics from the Probit Model"
   ]
  },
  {
   "cell_type": "code",
   "execution_count": 31,
   "metadata": {},
   "outputs": [
    {
     "data": {
      "text/plain": [
       "0.0020249300846191254"
      ]
     },
     "execution_count": 31,
     "metadata": {},
     "output_type": "execute_result"
    }
   ],
   "source": [
    "prob_a.prsquared"
   ]
  },
  {
   "cell_type": "code",
   "execution_count": 32,
   "metadata": {},
   "outputs": [
    {
     "data": {
      "text/plain": [
       "2y10y   NaN\n",
       "2y30y   NaN\n",
       "2y5y    NaN\n",
       "3m10y   NaN\n",
       "3m30y   NaN\n",
       "3m5y    NaN\n",
       "Name: 2024-12-31 00:00:00, dtype: float64"
      ]
     },
     "execution_count": 32,
     "metadata": {},
     "output_type": "execute_result"
    }
   ],
   "source": [
    "y_a.iloc[-1]*prob_a.prsquared+y_b.iloc[-1]*prob_b.prsquared+y_c.iloc[-1]*prob_c.prsquared+y_d.iloc[-1]*prob_d.prsquared+y_e.iloc[-1]*prob_e.prsquared+y_f.iloc[-1]*prob_f.prsquared"
   ]
  },
  {
   "cell_type": "code",
   "execution_count": 33,
   "metadata": {},
   "outputs": [
    {
     "data": {
      "text/plain": [
       "2y5y    0.166827\n",
       "Name: 2024-12-31 00:00:00, dtype: float64"
      ]
     },
     "execution_count": 33,
     "metadata": {},
     "output_type": "execute_result"
    }
   ],
   "source": [
    "y_f.iloc[-1]"
   ]
  },
  {
   "cell_type": "code",
   "execution_count": 34,
   "metadata": {},
   "outputs": [
    {
     "data": {
      "text/plain": [
       "0.009937415232615932"
      ]
     },
     "execution_count": 34,
     "metadata": {},
     "output_type": "execute_result"
    }
   ],
   "source": [
    "prob_f.prsquared"
   ]
  },
  {
   "cell_type": "markdown",
   "metadata": {},
   "source": [
    "### Recession Probability - ICI"
   ]
  },
  {
   "cell_type": "code",
   "execution_count": 35,
   "metadata": {},
   "outputs": [
    {
     "name": "stdout",
     "output_type": "stream",
     "text": [
      "Optimization terminated successfully.\n",
      "         Current function value: 0.378237\n",
      "         Iterations 5\n"
     ]
    },
    {
     "data": {
      "text/plain": [
       "Date\n",
       "2023-06-30    0.039888\n",
       "2023-09-30    0.054137\n",
       "2023-12-31    0.068155\n",
       "2024-03-31    0.048791\n",
       "2024-06-30    0.074114\n",
       "Freq: Q-DEC, Name: model, dtype: float64"
      ]
     },
     "execution_count": 35,
     "metadata": {},
     "output_type": "execute_result"
    }
   ],
   "source": [
    "lags = 4\n",
    "\n",
    "\n",
    "df1 = df1.fillna(0)\n",
    "test = df1[df1.columns[0]].copy()\n",
    "test.loc[test!=0]=1\n",
    "\n",
    "test = test.resample('Q').last().fillna(method='ffill')\n",
    "X = test\n",
    "\n",
    "X.loc[X>0] = 1\n",
    "X.loc[X<0] = 0\n",
    "#X.loc['2019-01-01':].head()\n",
    "\n",
    "y = ols['USRECD'].loc[X.index[0]:X.index[-1]].resample(freq).last().fillna(method='ffill')\n",
    "\n",
    "r1 = -24\n",
    "r2 = 24\n",
    "def createList(r1, r2):\n",
    "    return list(range(r1, r2+1))\n",
    "obs = createList(r1, r2)\n",
    "\n",
    "corr = pd.DataFrame(columns=['Correlation'])\n",
    "X11 = pd.DataFrame()\n",
    "for i in obs:\n",
    "    try:\n",
    "        X11 = y.shift(i).corr(X)\n",
    "    except:\n",
    "        pass\n",
    "    corr = corr.append({'Correlation': X11}, ignore_index=True)\n",
    "#corr = abs(corr)\n",
    "\n",
    "corr.index=range(r1,r2+1)\n",
    "#lag = corr.index.max()\n",
    "lag = 0\n",
    "\n",
    "X = X.shift(lags).dropna()\n",
    "X = sm.add_constant(X)\n",
    "\n",
    "y = y.loc[X.dropna().index[0]:]\n",
    "\n",
    "prob = sm.Probit(y,X).fit()\n",
    "\n",
    "#pred = s1.sub(s2).fillna(method='ffill').dropna().resample(freq).min()\n",
    "pred = df1['average'].resample('Q').last().fillna(method='ffill').loc[X.index[0]:X.index[-1]]\n",
    "\n",
    "mu = 0\n",
    "sigma = 1\n",
    "\n",
    "dx = prob.params['const']+prob.params[0]*pred\n",
    "dx = dx.loc[X.dropna().index[0]:]\n",
    "\n",
    "X['rec'] = df['USRECD']\n",
    "\n",
    "X['model'] = norm.cdf(dx,loc=mu,scale=sigma)\n",
    "#X[['rec','model']].plot()\n",
    "ici = X['model']\n",
    "ici.tail()"
   ]
  },
  {
   "cell_type": "code",
   "execution_count": 36,
   "metadata": {},
   "outputs": [
    {
     "data": {
      "text/plain": [
       "<AxesSubplot:xlabel='Date'>"
      ]
     },
     "execution_count": 36,
     "metadata": {},
     "output_type": "execute_result"
    },
    {
     "data": {
      "image/png": "[encoded data removed]",
      "text/plain": [
       "<Figure size 432x288 with 1 Axes>"
      ]
     },
     "metadata": {
      "needs_background": "light"
     },
     "output_type": "display_data"
    }
   ],
   "source": [
    "ici.plot()"
   ]
  },
  {
   "cell_type": "code",
   "execution_count": 37,
   "metadata": {
    "scrolled": true
   },
   "outputs": [
    {
     "data": {
      "text/html": [
       "<table class=\"simpletable\">\n",
       "<caption>Probit Regression Results</caption>\n",
       "<tr>\n",
       "  <th>Dep. Variable:</th>        <td>USRECD</td>      <th>  No. Observations:  </th>  <td>   294</td>  \n",
       "</tr>\n",
       "<tr>\n",
       "  <th>Model:</th>                <td>Probit</td>      <th>  Df Residuals:      </th>  <td>   292</td>  \n",
       "</tr>\n",
       "<tr>\n",
       "  <th>Method:</th>                 <td>MLE</td>       <th>  Df Model:          </th>  <td>     1</td>  \n",
       "</tr>\n",
       "<tr>\n",
       "  <th>Date:</th>            <td>Wed, 07 Aug 2024</td> <th>  Pseudo R-squ.:     </th> <td>0.0004876</td>\n",
       "</tr>\n",
       "<tr>\n",
       "  <th>Time:</th>                <td>11:25:26</td>     <th>  Log-Likelihood:    </th> <td> -111.20</td> \n",
       "</tr>\n",
       "<tr>\n",
       "  <th>converged:</th>             <td>True</td>       <th>  LL-Null:           </th> <td> -111.26</td> \n",
       "</tr>\n",
       "<tr>\n",
       "  <th>Covariance Type:</th>     <td>nonrobust</td>    <th>  LLR p-value:       </th>  <td>0.7419</td>  \n",
       "</tr>\n",
       "</table>\n",
       "<table class=\"simpletable\">\n",
       "<tr>\n",
       "     <td></td>        <th>coef</th>     <th>std err</th>      <th>z</th>      <th>P>|z|</th>  <th>[0.025</th>    <th>0.975]</th>  \n",
       "</tr>\n",
       "<tr>\n",
       "  <th>const</th>   <td>   -1.0364</td> <td>    0.342</td> <td>   -3.027</td> <td> 0.002</td> <td>   -1.708</td> <td>   -0.365</td>\n",
       "</tr>\n",
       "<tr>\n",
       "  <th>average</th> <td>   -0.1184</td> <td>    0.356</td> <td>   -0.332</td> <td> 0.740</td> <td>   -0.816</td> <td>    0.579</td>\n",
       "</tr>\n",
       "</table>"
      ],
      "text/plain": [
       "<class 'statsmodels.iolib.summary.Summary'>\n",
       "\"\"\"\n",
       "                          Probit Regression Results                           \n",
       "==============================================================================\n",
       "Dep. Variable:                 USRECD   No. Observations:                  294\n",
       "Model:                         Probit   Df Residuals:                      292\n",
       "Method:                           MLE   Df Model:                            1\n",
       "Date:                Wed, 07 Aug 2024   Pseudo R-squ.:               0.0004876\n",
       "Time:                        11:25:26   Log-Likelihood:                -111.20\n",
       "converged:                       True   LL-Null:                       -111.26\n",
       "Covariance Type:            nonrobust   LLR p-value:                    0.7419\n",
       "==============================================================================\n",
       "                 coef    std err          z      P>|z|      [0.025      0.975]\n",
       "------------------------------------------------------------------------------\n",
       "const         -1.0364      0.342     -3.027      0.002      -1.708      -0.365\n",
       "average       -0.1184      0.356     -0.332      0.740      -0.816       0.579\n",
       "==============================================================================\n",
       "\"\"\""
      ]
     },
     "execution_count": 37,
     "metadata": {},
     "output_type": "execute_result"
    }
   ],
   "source": [
    "prob.summary()"
   ]
  },
  {
   "cell_type": "markdown",
   "metadata": {},
   "source": [
    "X = ja.resample('D').last().fillna(method='ffill').dropna().iloc[:-2]\n",
    "#X = X.shift(lag).dropna()\n",
    "X = sm.add_constant(X)\n",
    "\n",
    "y = ols['USRECD'].loc[X.index[0]:X.index[-1]].resample(freq).max().fillna(method='ffill')\n",
    "y = y.loc[X.dropna().index[0]:]\n",
    "\n",
    "prob = sm.Probit(y,X).fit()\n",
    "\n",
    "#pred = s1.sub(s2).fillna(method='ffill').dropna().resample(freq).min()\n",
    "pred = df2.resample('D').last().fillna(method='ffill').loc[X.index[0]:X.index[-1]]\n",
    "\n",
    "mu = 0\n",
    "sigma = 1\n",
    "\n",
    "dx = prob.params['const']+prob.params[0]*pred\n",
    "dx = dx.loc[X.dropna().index[0]:]\n",
    "\n",
    "X['rec'] = df['USRECD']\n",
    "\n",
    "X['model'] = norm.cdf(dx,loc=mu,scale=sigma)\n",
    "#X[['rec','model']].plot()\n",
    "cb = X['model']\n",
    "cb.plot()"
   ]
  },
  {
   "cell_type": "code",
   "execution_count": 38,
   "metadata": {},
   "outputs": [
    {
     "data": {
      "text/plain": [
       "<AxesSubplot:>"
      ]
     },
     "execution_count": 38,
     "metadata": {},
     "output_type": "execute_result"
    },
    {
     "data": {
      "image/png": "[encoded data removed]",
      "text/plain": [
       "<Figure size 432x288 with 1 Axes>"
      ]
     },
     "metadata": {
      "needs_background": "light"
     },
     "output_type": "display_data"
    }
   ],
   "source": [
    "df2.plot()\n",
    "ols['USRECD'].plot()"
   ]
  },
  {
   "cell_type": "code",
   "execution_count": 39,
   "metadata": {},
   "outputs": [
    {
     "data": {
      "text/html": [
       "<div>\n",
       "<style scoped>\n",
       "    .dataframe tbody tr th:only-of-type {\n",
       "        vertical-align: middle;\n",
       "    }\n",
       "\n",
       "    .dataframe tbody tr th {\n",
       "        vertical-align: top;\n",
       "    }\n",
       "\n",
       "    .dataframe thead th {\n",
       "        text-align: right;\n",
       "    }\n",
       "</style>\n",
       "<table border=\"1\" class=\"dataframe\">\n",
       "  <thead>\n",
       "    <tr style=\"text-align: right;\">\n",
       "      <th></th>\n",
       "      <th>3m3x18</th>\n",
       "      <th>3m30y</th>\n",
       "      <th>2y30y</th>\n",
       "      <th>3m10y</th>\n",
       "      <th>2y10y</th>\n",
       "      <th>3m5y</th>\n",
       "      <th>2y5y</th>\n",
       "      <th>Recession</th>\n",
       "    </tr>\n",
       "    <tr>\n",
       "      <th>Date</th>\n",
       "      <th></th>\n",
       "      <th></th>\n",
       "      <th></th>\n",
       "      <th></th>\n",
       "      <th></th>\n",
       "      <th></th>\n",
       "      <th></th>\n",
       "      <th></th>\n",
       "    </tr>\n",
       "  </thead>\n",
       "  <tbody>\n",
       "    <tr>\n",
       "      <th>1982-03-31</th>\n",
       "      <td>0.040602</td>\n",
       "      <td>0.147295</td>\n",
       "      <td>0.190661</td>\n",
       "      <td>9.999976e-01</td>\n",
       "      <td>0.140217</td>\n",
       "      <td>NaN</td>\n",
       "      <td>0.123047</td>\n",
       "      <td>1.0</td>\n",
       "    </tr>\n",
       "    <tr>\n",
       "      <th>1982-06-30</th>\n",
       "      <td>0.160683</td>\n",
       "      <td>0.054189</td>\n",
       "      <td>0.336872</td>\n",
       "      <td>2.576519e-06</td>\n",
       "      <td>0.228907</td>\n",
       "      <td>0.107117</td>\n",
       "      <td>0.155984</td>\n",
       "      <td>1.0</td>\n",
       "    </tr>\n",
       "    <tr>\n",
       "      <th>1982-09-30</th>\n",
       "      <td>0.089477</td>\n",
       "      <td>0.079649</td>\n",
       "      <td>0.319688</td>\n",
       "      <td>1.720678e-01</td>\n",
       "      <td>0.211554</td>\n",
       "      <td>0.074096</td>\n",
       "      <td>0.147069</td>\n",
       "      <td>1.0</td>\n",
       "    </tr>\n",
       "    <tr>\n",
       "      <th>1982-12-31</th>\n",
       "      <td>0.008904</td>\n",
       "      <td>0.263204</td>\n",
       "      <td>0.122859</td>\n",
       "      <td>1.000000e+00</td>\n",
       "      <td>0.124540</td>\n",
       "      <td>0.021516</td>\n",
       "      <td>0.115482</td>\n",
       "      <td>0.0</td>\n",
       "    </tr>\n",
       "    <tr>\n",
       "      <th>1983-03-31</th>\n",
       "      <td>0.044026</td>\n",
       "      <td>0.153753</td>\n",
       "      <td>0.085828</td>\n",
       "      <td>9.997066e-01</td>\n",
       "      <td>0.090428</td>\n",
       "      <td>0.056661</td>\n",
       "      <td>0.106499</td>\n",
       "      <td>0.0</td>\n",
       "    </tr>\n",
       "    <tr>\n",
       "      <th>...</th>\n",
       "      <td>...</td>\n",
       "      <td>...</td>\n",
       "      <td>...</td>\n",
       "      <td>...</td>\n",
       "      <td>...</td>\n",
       "      <td>...</td>\n",
       "      <td>...</td>\n",
       "      <td>...</td>\n",
       "    </tr>\n",
       "    <tr>\n",
       "      <th>2023-12-31</th>\n",
       "      <td>0.183730</td>\n",
       "      <td>0.042444</td>\n",
       "      <td>0.239980</td>\n",
       "      <td>1.401891e-20</td>\n",
       "      <td>0.243958</td>\n",
       "      <td>0.175498</td>\n",
       "      <td>0.179800</td>\n",
       "      <td>0.0</td>\n",
       "    </tr>\n",
       "    <tr>\n",
       "      <th>2024-03-31</th>\n",
       "      <td>0.274922</td>\n",
       "      <td>0.032180</td>\n",
       "      <td>0.223864</td>\n",
       "      <td>6.657087e-31</td>\n",
       "      <td>0.230388</td>\n",
       "      <td>0.213924</td>\n",
       "      <td>0.176499</td>\n",
       "      <td>0.0</td>\n",
       "    </tr>\n",
       "    <tr>\n",
       "      <th>2024-06-30</th>\n",
       "      <td>0.225014</td>\n",
       "      <td>0.036559</td>\n",
       "      <td>0.231844</td>\n",
       "      <td>7.814157e-26</td>\n",
       "      <td>0.236367</td>\n",
       "      <td>0.193817</td>\n",
       "      <td>0.175680</td>\n",
       "      <td>0.0</td>\n",
       "    </tr>\n",
       "    <tr>\n",
       "      <th>2024-09-30</th>\n",
       "      <td>0.224265</td>\n",
       "      <td>0.039412</td>\n",
       "      <td>0.223864</td>\n",
       "      <td>2.654759e-23</td>\n",
       "      <td>0.230388</td>\n",
       "      <td>0.187585</td>\n",
       "      <td>0.175680</td>\n",
       "      <td>0.0</td>\n",
       "    </tr>\n",
       "    <tr>\n",
       "      <th>2024-12-31</th>\n",
       "      <td>0.290891</td>\n",
       "      <td>0.033531</td>\n",
       "      <td>0.169858</td>\n",
       "      <td>6.213451e-32</td>\n",
       "      <td>0.196345</td>\n",
       "      <td>0.225447</td>\n",
       "      <td>0.166827</td>\n",
       "      <td>NaN</td>\n",
       "    </tr>\n",
       "  </tbody>\n",
       "</table>\n",
       "<p>172 rows × 8 columns</p>\n",
       "</div>"
      ],
      "text/plain": [
       "              3m3x18     3m30y     2y30y         3m10y     2y10y      3m5y  \\\n",
       "Date                                                                         \n",
       "1982-03-31  0.040602  0.147295  0.190661  9.999976e-01  0.140217       NaN   \n",
       "1982-06-30  0.160683  0.054189  0.336872  2.576519e-06  0.228907  0.107117   \n",
       "1982-09-30  0.089477  0.079649  0.319688  1.720678e-01  0.211554  0.074096   \n",
       "1982-12-31  0.008904  0.263204  0.122859  1.000000e+00  0.124540  0.021516   \n",
       "1983-03-31  0.044026  0.153753  0.085828  9.997066e-01  0.090428  0.056661   \n",
       "...              ...       ...       ...           ...       ...       ...   \n",
       "2023-12-31  0.183730  0.042444  0.239980  1.401891e-20  0.243958  0.175498   \n",
       "2024-03-31  0.274922  0.032180  0.223864  6.657087e-31  0.230388  0.213924   \n",
       "2024-06-30  0.225014  0.036559  0.231844  7.814157e-26  0.236367  0.193817   \n",
       "2024-09-30  0.224265  0.039412  0.223864  2.654759e-23  0.230388  0.187585   \n",
       "2024-12-31  0.290891  0.033531  0.169858  6.213451e-32  0.196345  0.225447   \n",
       "\n",
       "                2y5y  Recession  \n",
       "Date                             \n",
       "1982-03-31  0.123047        1.0  \n",
       "1982-06-30  0.155984        1.0  \n",
       "1982-09-30  0.147069        1.0  \n",
       "1982-12-31  0.115482        0.0  \n",
       "1983-03-31  0.106499        0.0  \n",
       "...              ...        ...  \n",
       "2023-12-31  0.179800        0.0  \n",
       "2024-03-31  0.176499        0.0  \n",
       "2024-06-30  0.175680        0.0  \n",
       "2024-09-30  0.175680        0.0  \n",
       "2024-12-31  0.166827        NaN  \n",
       "\n",
       "[172 rows x 8 columns]"
      ]
     },
     "execution_count": 39,
     "metadata": {},
     "output_type": "execute_result"
    }
   ],
   "source": [
    "y_g"
   ]
  },
  {
   "cell_type": "code",
   "execution_count": 40,
   "metadata": {},
   "outputs": [],
   "source": [
    "series = df[df.columns[[0,1,2,3,4,9]]]\n",
    "dags = df['3X18'].sub(df['DGS3MO'])\n",
    "\n",
    "vikt = pd.concat([series,dags],axis=1)\n",
    "\n",
    "series = vikt.iloc[:,:6]\n",
    "dags = vikt.iloc[:,-1].to_frame()"
   ]
  },
  {
   "cell_type": "code",
   "execution_count": 41,
   "metadata": {},
   "outputs": [
    {
     "data": {
      "text/plain": [
       "1950-01-01    0.0\n",
       "1950-01-02    0.0\n",
       "1950-01-03    0.0\n",
       "1950-01-04    0.0\n",
       "1950-01-05    0.0\n",
       "             ... \n",
       "2024-08-01    0.0\n",
       "2024-08-02    0.0\n",
       "2024-08-03    0.0\n",
       "2024-08-04    0.0\n",
       "2024-08-05    0.0\n",
       "Freq: D, Name: USREC, Length: 27246, dtype: float64"
      ]
     },
     "execution_count": 41,
     "metadata": {},
     "output_type": "execute_result"
    }
   ],
   "source": [
    "df.iloc[:,-3].dropna()"
   ]
  },
  {
   "cell_type": "code",
   "execution_count": null,
   "metadata": {},
   "outputs": [],
   "source": []
  },
  {
   "cell_type": "code",
   "execution_count": 42,
   "metadata": {},
   "outputs": [],
   "source": [
    "book = load_workbook(mypath+'Inflation/Data/Fixed Income - Recession Probabiliy (new).xlsx')\n",
    "writer = pd.ExcelWriter(mypath+'Inflation/Data/Fixed Income - Recession Probabiliy (new).xlsx', engine='openpyxl') \n",
    "writer.book = book\n",
    "writer.sheets = dict((ws.title, ws) for ws in book.worksheets)\n",
    "\n",
    "ctt.to_excel(writer, \"Stats - 1Q\")\n",
    "#y.to_excel(writer, \"Test\")\n",
    "\n",
    "writer.save()"
   ]
  },
  {
   "cell_type": "code",
   "execution_count": null,
   "metadata": {},
   "outputs": [],
   "source": []
  },
  {
   "cell_type": "code",
   "execution_count": null,
   "metadata": {},
   "outputs": [],
   "source": []
  },
  {
   "cell_type": "code",
   "execution_count": null,
   "metadata": {},
   "outputs": [],
   "source": []
  },
  {
   "cell_type": "code",
   "execution_count": null,
   "metadata": {},
   "outputs": [],
   "source": []
  },
  {
   "cell_type": "code",
   "execution_count": null,
   "metadata": {},
   "outputs": [],
   "source": []
  },
  {
   "cell_type": "code",
   "execution_count": 43,
   "metadata": {},
   "outputs": [],
   "source": [
    "#Find Python API for NY-Fed in order to obtain following; https://www.newyorkfed.org/research/capital_markets/ycfaq.html#/Q11"
   ]
  },
  {
   "cell_type": "code",
   "execution_count": 44,
   "metadata": {},
   "outputs": [
    {
     "ename": "TypeError",
     "evalue": "last() missing 1 required positional argument: 'offset'",
     "output_type": "error",
     "traceback": [
      "\u001b[1;31m---------------------------------------------------------------------------\u001b[0m",
      "\u001b[1;31mTypeError\u001b[0m                                 Traceback (most recent call last)",
      "\u001b[1;32m<ipython-input-44-8b3872e68e57>\u001b[0m in \u001b[0;36m<module>\u001b[1;34m\u001b[0m\n\u001b[0;32m      1\u001b[0m \u001b[0mdf\u001b[0m\u001b[1;33m[\u001b[0m\u001b[1;34m'US10Y3M'\u001b[0m\u001b[1;33m]\u001b[0m \u001b[1;33m=\u001b[0m \u001b[0mdf\u001b[0m\u001b[1;33m[\u001b[0m\u001b[0mdf\u001b[0m\u001b[1;33m.\u001b[0m\u001b[0mcolumns\u001b[0m\u001b[1;33m[\u001b[0m\u001b[1;36m0\u001b[0m\u001b[1;33m]\u001b[0m\u001b[1;33m]\u001b[0m\u001b[1;33m.\u001b[0m\u001b[0msub\u001b[0m\u001b[1;33m(\u001b[0m\u001b[0mdf\u001b[0m\u001b[1;33m[\u001b[0m\u001b[0mdf\u001b[0m\u001b[1;33m.\u001b[0m\u001b[0mcolumns\u001b[0m\u001b[1;33m[\u001b[0m\u001b[1;36m1\u001b[0m\u001b[1;33m]\u001b[0m\u001b[1;33m]\u001b[0m\u001b[1;33m)\u001b[0m\u001b[1;33m\u001b[0m\u001b[1;33m\u001b[0m\u001b[0m\n\u001b[0;32m      2\u001b[0m \u001b[1;33m\u001b[0m\u001b[0m\n\u001b[1;32m----> 3\u001b[1;33m \u001b[0mmu\u001b[0m \u001b[1;33m=\u001b[0m \u001b[0mdf\u001b[0m\u001b[1;33m[\u001b[0m\u001b[0mdf\u001b[0m\u001b[1;33m.\u001b[0m\u001b[0mcolumns\u001b[0m\u001b[1;33m[\u001b[0m\u001b[1;36m3\u001b[0m\u001b[1;33m]\u001b[0m\u001b[1;33m]\u001b[0m\u001b[1;33m.\u001b[0m\u001b[0mlast\u001b[0m\u001b[1;33m(\u001b[0m\u001b[1;33m)\u001b[0m\u001b[1;33m\u001b[0m\u001b[1;33m\u001b[0m\u001b[0m\n\u001b[0m\u001b[0;32m      4\u001b[0m \u001b[0msigma\u001b[0m \u001b[1;33m=\u001b[0m \u001b[0mdf\u001b[0m\u001b[1;33m[\u001b[0m\u001b[0mdf\u001b[0m\u001b[1;33m.\u001b[0m\u001b[0mcolumns\u001b[0m\u001b[1;33m[\u001b[0m\u001b[1;36m3\u001b[0m\u001b[1;33m]\u001b[0m\u001b[1;33m]\u001b[0m\u001b[1;33m.\u001b[0m\u001b[0mstd\u001b[0m\u001b[1;33m(\u001b[0m\u001b[1;33m)\u001b[0m\u001b[1;33m\u001b[0m\u001b[1;33m\u001b[0m\u001b[0m\n\u001b[0;32m      5\u001b[0m \u001b[1;33m\u001b[0m\u001b[0m\n",
      "\u001b[1;31mTypeError\u001b[0m: last() missing 1 required positional argument: 'offset'"
     ]
    }
   ],
   "source": [
    "df['US10Y3M'] = df[df.columns[0]].sub(df[df.columns[1]])\n",
    "\n",
    "mu = df[df.columns[3]].last()\n",
    "sigma = df[df.columns[3]].std()\n",
    "\n",
    "#Recession probability\n",
    "scipy.stats.norm(mu,sigma).pdf(0)"
   ]
  },
  {
   "cell_type": "code",
   "execution_count": null,
   "metadata": {},
   "outputs": [],
   "source": [
    "df['BAMLC0A4CBBB'].dropna().plot()"
   ]
  },
  {
   "cell_type": "code",
   "execution_count": null,
   "metadata": {},
   "outputs": [],
   "source": [
    "series1"
   ]
  },
  {
   "cell_type": "code",
   "execution_count": null,
   "metadata": {},
   "outputs": [],
   "source": []
  },
  {
   "cell_type": "code",
   "execution_count": null,
   "metadata": {},
   "outputs": [],
   "source": []
  },
  {
   "cell_type": "code",
   "execution_count": null,
   "metadata": {},
   "outputs": [],
   "source": []
  }
 ],
 "metadata": {
  "kernelspec": {
   "display_name": "Python 3",
   "language": "python",
   "name": "python3"
  },
  "language_info": {
   "codemirror_mode": {
    "name": "ipython",
    "version": 3
   },
   "file_extension": ".py",
   "mimetype": "text/x-python",
   "name": "python",
   "nbconvert_exporter": "python",
   "pygments_lexer": "ipython3",
   "version": "3.8.5"
  }
 },
 "nbformat": 4,
 "nbformat_minor": 4
}
